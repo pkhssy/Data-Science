{
 "cells": [
  {
   "cell_type": "code",
   "execution_count": 1,
   "metadata": {},
   "outputs": [
    {
     "name": "stdout",
     "output_type": "stream",
     "text": [
      "[13.3095875  14.14169162 14.67871342 20.37525527 31.38777064 20.50043649\n",
      " 18.00359552 14.31917086 15.02652314 21.07839305]\n",
      "[0 0 0 1 3 1 0 0 0 1 1 1 2 0 0 1 3 3 0 0 1 0 1 3 0 1 1 0 0 2 0 0 3 2 3 1 2\n",
      " 1 1 0 0 2 1 1 3 0 2 0 3 0 1 3 2 0 0 2 0 0 0 3 3 1 1 0 2 1 2 1 1 3 1 1 3 1\n",
      " 1 1 3 0 0 2 3 0 3 0 3 0 1 2 3 0 0 3 2 1 2 1 3 3 2 3]\n"
     ]
    },
    {
     "data": {
      "text/plain": [
       "<Figure size 640x480 with 1 Axes>"
      ]
     },
     "metadata": {},
     "output_type": "display_data"
    },
    {
     "name": "stdout",
     "output_type": "stream",
     "text": [
      "=========\n",
      " [1.90516652 1.92673012 1.8020135  1.93409564 1.6355486  1.56840406\n",
      " 1.80542698 1.70094045 1.84346361 1.95899714 1.95732235 1.54815522\n",
      " 1.70026816 1.79804903 1.88746003 1.49402871 1.58302763 1.49081994\n",
      " 1.97075231 1.73256314 1.56577016 1.89467992 1.88631733 1.5527293\n",
      " 1.68058465 1.8001317  1.48699527 1.7655987  1.49257217 1.70961206\n",
      " 1.81017469 1.96461863 1.55527159 1.56205926 1.454473   1.71875523\n",
      " 1.4597797  1.54820212 1.69273996 1.98800912 1.99293828 1.41651691\n",
      " 1.57379397 1.74577082 1.43220171 1.854096   1.67875655 1.78920744\n",
      " 1.6848865  1.98759084 1.66701091 1.41554433 1.52348374 1.93916694\n",
      " 1.88577042 1.58424566 1.99732282 1.89667218 1.73786443 1.53821858\n",
      " 1.40361018 1.67994061 1.57346858 1.68409422 1.65432011 1.99130135\n",
      " 1.53799254 1.82611785 1.4273847  1.46301507 1.59022619 1.99663775\n",
      " 1.42189733 1.92179606 1.52323038 1.41374223 1.45146754 1.75149637\n",
      " 1.96855385 1.7957562  1.51470071 1.84923894 1.56927136 1.73189275\n",
      " 1.49234745 1.93190048 1.68009439 1.76981633 1.50527399 1.72049987\n",
      " 1.7250014  1.65923864 1.46982973 1.94307971 1.62195613 1.78059741\n",
      " 1.55002453 1.57983487 1.5604709  1.40764772]\n"
     ]
    }
   ],
   "source": [
    "import numpy as np\n",
    "import matplotlib.pyplot as plt\n",
    "\n",
    "# NumPy Exercise\n",
    "wt, ht = np.random.random(100) * 50 + 40, np.random.random(100) * 0.6 + 1.4\n",
    "bmi = wt / (ht * ht)\n",
    "print(bmi[:10])\n",
    "\n",
    "# MatPlotLib Exercise\n",
    "status = (bmi >= 18.5).astype(int) + (bmi >= 25.0) + (bmi >= 30.0)\n",
    "# status = 0: underweight, 1: health, 2: overweight, 3: obese\n",
    "sstr = ['underweight', 'healthy', 'overweight', 'obese']\n",
    "\n",
    "print(status)\n",
    "\n",
    "# # Boxplot\n",
    "# def plotBox(a, s):\n",
    "#     plotData = []\n",
    "#     for i in range(4): plotData.append(a[status==i])\n",
    "#     plt.boxplot(plotData)\n",
    "#     plt.xticks(np.arange(4)+1, sstr)\n",
    "#     plt.xlabel('BMI Category')\n",
    "#     plt.ylabel(s)\n",
    "#     plt.show()\n",
    "\n",
    "# plotBox(ht, 'Height (m)')\n",
    "# plotBox(wt, 'Weight (kg)')\n",
    "\n",
    "# Histogram (1)\n",
    "plt.hist(status, bins=range(5), rwidth=.8, align='left')\n",
    "plt.xticks(range(4), sstr)\n",
    "plt.xlabel('BMI category')\n",
    "plt.ylabel('Number of students')\n",
    "plt.show()\n",
    "\n",
    "print('=========\\n',ht)\n",
    "\n",
    "# # Histogram (2)\n",
    "# def plotHistogram(a, s):\n",
    "#     for i in range(4):\n",
    "#         plt.subplot(2, 2, i+1)\n",
    "#         plt.hist(a[status==i], rwidth=.8)\n",
    "#         plt.title(sstr[i])\n",
    "#         plt.xlabel(s)\n",
    "#         plt.ylabel('Number of students')\n",
    "#     plt.tight_layout()\n",
    "#     plt.show()\n",
    "\n",
    "# plotHistogram(ht, 'Height (m)')\n",
    "# plotHistogram(wt, 'Weight (kg)')\n",
    "\n",
    "# # Pie chart\n",
    "# plotData = []\n",
    "# for i in range(4): plotData.append(bmi[status==i].size)\n",
    "# plt.pie(plotData, labels=sstr, autopct='%1.2f%%')\n",
    "# plt.show()\n",
    "\n",
    "# # Scatter plot\n",
    "# for i in range(4):\n",
    "#     plt.scatter(ht[status==i], wt[status==i], label=sstr[i])\n",
    "# plt.xlabel('Height (m)')\n",
    "# plt.ylabel('Weight (kg)')\n",
    "# plt.legend(loc='upper right')\n",
    "# plt.show()\n"
   ]
  },
  {
   "cell_type": "code",
   "execution_count": null,
   "metadata": {},
   "outputs": [],
   "source": []
  }
 ],
 "metadata": {
  "kernelspec": {
   "display_name": "Python 3",
   "language": "python",
   "name": "python3"
  },
  "language_info": {
   "codemirror_mode": {
    "name": "ipython",
    "version": 3
   },
   "file_extension": ".py",
   "mimetype": "text/x-python",
   "name": "python",
   "nbconvert_exporter": "python",
   "pygments_lexer": "ipython3",
   "version": "3.6.5"
  }
 },
 "nbformat": 4,
 "nbformat_minor": 2
}
