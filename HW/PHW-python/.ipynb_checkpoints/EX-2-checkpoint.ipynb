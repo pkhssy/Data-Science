{
 "cells": [
  {
   "cell_type": "code",
   "execution_count": 16,
   "metadata": {},
   "outputs": [
    {
     "name": "stdout",
     "output_type": "stream",
     "text": [
      "3\n",
      "Korean\n",
      "Mathematics\n",
      "English\n",
      "90.3\n",
      "85.5\n",
      "92.7\n",
      "['Korean', 'Mathematics', 'English']\n",
      "[90.3, 85.5, 92.7]\n",
      "{'Korean': 90.3, 'Mathematics': 85.5, 'English': 92.7} \n",
      "\n",
      "Korean  :  True\n",
      "Mathematics  :  True\n",
      "English  :  True\n"
     ]
    }
   ],
   "source": [
    "K = []\n",
    "V = []\n",
    "D = {}\n",
    "\n",
    "# size of K and V\n",
    "n = int(input())\n",
    "\n",
    "# receive data about K and D\n",
    "for i in range (0,n):\n",
    "    K.append(input())\n",
    "for i in range (0,n):\n",
    "    V.append(float(input()))\n",
    "    \n",
    "print(K)\n",
    "print(V)\n",
    "\n",
    "# receive two tuples and change form\n",
    "def makeDict(n, K, V):\n",
    "    for i in range(0, n):\n",
    "        D[K[i]] = V[i]\n",
    "    return D\n",
    "    \n",
    "print(makeDict(n, K, V),'\\n')\n",
    "\n",
    "# for every key in K, check if the value obtained from D is correct\n",
    "for i in range(0,n):\n",
    "    print(K[i], ' : ', K[i] in D)"
   ]
  },
  {
   "cell_type": "code",
   "execution_count": null,
   "metadata": {},
   "outputs": [],
   "source": []
  },
  {
   "cell_type": "code",
   "execution_count": null,
   "metadata": {},
   "outputs": [],
   "source": []
  }
 ],
 "metadata": {
  "kernelspec": {
   "display_name": "Python 3",
   "language": "python",
   "name": "python3"
  },
  "language_info": {
   "codemirror_mode": {
    "name": "ipython",
    "version": 3
   },
   "file_extension": ".py",
   "mimetype": "text/x-python",
   "name": "python",
   "nbconvert_exporter": "python",
   "pygments_lexer": "ipython3",
   "version": "3.6.5"
  }
 },
 "nbformat": 4,
 "nbformat_minor": 2
}
