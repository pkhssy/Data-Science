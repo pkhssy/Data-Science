{
 "cells": [
  {
   "cell_type": "code",
   "execution_count": 1,
   "metadata": {},
   "outputs": [
    {
     "name": "stdout",
     "output_type": "stream",
     "text": [
      "type a integer between 2 and 32767 : 11\n",
      "yes\n",
      "type a integer between 2 and 32767 : 93\n",
      "no\n",
      "type a integer between 2 and 32767 : 197\n",
      "yes\n",
      "type a integer between 2 and 32767 : 2794\n",
      "no\n",
      "type a integer between 2 and 32767 : 24897\n",
      "no\n",
      "type a integer between 2 and 32767 : 0\n"
     ]
    }
   ],
   "source": [
    "import math\n",
    "\n",
    "n = input(\"type a integer between 2 and 32767 : \")\n",
    "n = int(n)\n",
    "    \n",
    "#Return 'Yes' if n is prime, 'No' if n is not prime\n",
    "def isPrime(n):\n",
    "    count = 0\n",
    "    \n",
    "    # find prime n\n",
    "    for i in range(2, int(math.sqrt(n))+1):\n",
    "        if n%i == 0:\n",
    "            count+=1\n",
    "            \n",
    "    if count == 0 :\n",
    "        print('yes') # prime number\n",
    "    else :\n",
    "        print('no')  # not prime number\n",
    "\n",
    "# iterate function until typing '0'\n",
    "while n != 0:\n",
    "    isPrime(n)\n",
    "    n = input(\"type a integer between 2 and 32767 : \")\n",
    "    n = int(n)"
   ]
  }
 ],
 "metadata": {
  "kernelspec": {
   "display_name": "Python 3",
   "language": "python",
   "name": "python3"
  },
  "language_info": {
   "codemirror_mode": {
    "name": "ipython",
    "version": 3
   },
   "file_extension": ".py",
   "mimetype": "text/x-python",
   "name": "python",
   "nbconvert_exporter": "python",
   "pygments_lexer": "ipython3",
   "version": "3.6.5"
  }
 },
 "nbformat": 4,
 "nbformat_minor": 2
}
