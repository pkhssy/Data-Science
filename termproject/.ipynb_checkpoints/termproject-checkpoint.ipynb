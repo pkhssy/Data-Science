{
 "cells": [
  {
   "cell_type": "code",
   "execution_count": 1,
   "metadata": {},
   "outputs": [],
   "source": [
    "import numpy as np\n",
    "import pandas as pd\n",
    "import matplotlib.pyplot as plt\n",
    "\n",
    "df = pd.read_csv(\"Accidental_Drug_Related_Deaths_2012-2018.csv\", encoding='cp1252')"
   ]
  },
  {
   "cell_type": "code",
   "execution_count": 2,
   "metadata": {},
   "outputs": [
    {
     "name": "stdout",
     "output_type": "stream",
     "text": [
      "    Age     Sex          Race Heroin Cocaine Fentanyl FentanylAnalogue  \\\n",
      "0   NaN     NaN           NaN    NaN     NaN        Y              NaN   \n",
      "1  48.0    Male         Black    NaN       Y      NaN              NaN   \n",
      "2  30.0  Female         White      Y       Y      NaN              NaN   \n",
      "3  23.0    Male         White      Y     NaN        Y              NaN   \n",
      "4  22.0    Male  Asian, Other    NaN     NaN        Y              NaN   \n",
      "\n",
      "  Oxycodone Oxymorphone Ethanol Hydrocodone Benzodiazepine Methadone Amphet  \\\n",
      "0       NaN         NaN     NaN           Y              Y       NaN    NaN   \n",
      "1       NaN         NaN     NaN         NaN            NaN       NaN    NaN   \n",
      "2       NaN         NaN     NaN         NaN            NaN       NaN    NaN   \n",
      "3       NaN         NaN     NaN         NaN            NaN       NaN    NaN   \n",
      "4       NaN         NaN     NaN         NaN            NaN       NaN    NaN   \n",
      "\n",
      "  Tramad Morphine_NotHeroin Hydromorphone OpiateNOS AnyOpioid MannerofDeath  \n",
      "0    NaN                NaN           NaN       NaN       NaN      Accident  \n",
      "1    NaN                NaN           NaN       NaN       NaN      Accident  \n",
      "2    NaN                NaN           NaN       NaN         Y      Accident  \n",
      "3    NaN                NaN           NaN       NaN         Y      Accident  \n",
      "4    NaN                NaN           NaN       NaN       NaN      Accident  \n"
     ]
    }
   ],
   "source": [
    "# Data Preprocessing\n",
    "#1) Data Restructuring - table vertical decomposition\n",
    "# remove features do not affect on accidental drug with death\n",
    "df.drop(['ID', 'Date', 'DateType', 'ResidenceCity', 'ResidenceCounty', 'ResidenceState', 'DeathCity', 'DeathCounty',\n",
    "        'Location', 'LocationifOther', 'DescriptionofInjury', 'InjuryPlace', 'InjuryCity', 'InjuryCounty', 'InjuryState', \n",
    "         'COD', 'OtherSignifican', 'Other', 'DeathCityGeo',\n",
    "        'ResidenceCityGeo', 'InjuryCityGeo'], 1, inplace=True)\n",
    "print(df.head(5))"
   ]
  },
  {
   "cell_type": "code",
   "execution_count": 3,
   "metadata": {},
   "outputs": [
    {
     "name": "stdout",
     "output_type": "stream",
     "text": [
      "- missing data before -\n",
      "Age                      3\n",
      "Sex                      6\n",
      "Race                    13\n",
      "Heroin                2576\n",
      "Cocaine               3584\n",
      "Fentanyl              2873\n",
      "FentanylAnalogue      4716\n",
      "Oxycodone             4498\n",
      "Oxymorphone           4997\n",
      "Ethanol               3858\n",
      "Hydrocodone           4987\n",
      "Benzodiazepine        3762\n",
      "Methadone             4631\n",
      "Amphet                4946\n",
      "Tramad                4975\n",
      "Morphine_NotHeroin    5063\n",
      "Hydromorphone         5080\n",
      "OpiateNOS             5017\n",
      "AnyOpioid             2639\n",
      "MannerofDeath           10\n",
      "dtype: int64\n",
      "- missing data after  -\n",
      "Age                      3\n",
      "Sex                      7\n",
      "Race                    36\n",
      "Heroin                2576\n",
      "Cocaine               3584\n",
      "Fentanyl              2873\n",
      "FentanylAnalogue      4716\n",
      "Oxycodone             4498\n",
      "Oxymorphone           4997\n",
      "Ethanol               3858\n",
      "Hydrocodone           4987\n",
      "Benzodiazepine        3762\n",
      "Methadone             4631\n",
      "Amphet                4946\n",
      "Tramad                4975\n",
      "Morphine_NotHeroin    5063\n",
      "Hydromorphone         5080\n",
      "OpiateNOS             5017\n",
      "AnyOpioid             2639\n",
      "MannerofDeath           10\n",
      "dtype: int64\n"
     ]
    }
   ],
   "source": [
    "# 2) Data Restructuring - data value changes\n",
    "# missing data\n",
    "print(\"- missing data before -\")\n",
    "print(df.isnull().sum()) # check missing data\n",
    "\n",
    "df = df.replace('Unknown', np.nan) # replace 'Unknown' to NaN\n",
    "\n",
    "print(\"- missing data after  -\")\n",
    "print(df.isnull().sum()) # check missing data"
   ]
  },
  {
   "cell_type": "code",
   "execution_count": 4,
   "metadata": {},
   "outputs": [
    {
     "name": "stdout",
     "output_type": "stream",
     "text": [
      "- missing data after -\n",
      "Age                      0\n",
      "Sex                      0\n",
      "Race                     0\n",
      "Heroin                2576\n",
      "Cocaine               3584\n",
      "Fentanyl              2873\n",
      "FentanylAnalogue      4716\n",
      "Oxycodone             4498\n",
      "Oxymorphone           4997\n",
      "Ethanol               3858\n",
      "Hydrocodone           4987\n",
      "Benzodiazepine        3762\n",
      "Methadone             4631\n",
      "Amphet                4946\n",
      "Tramad                4975\n",
      "Morphine_NotHeroin    5063\n",
      "Hydromorphone         5080\n",
      "OpiateNOS             5017\n",
      "AnyOpioid             2639\n",
      "MannerofDeath            0\n",
      "dtype: int64\n"
     ]
    }
   ],
   "source": [
    "# replace the NaN\n",
    "df[['Age']] = df[['Age']].fillna(df[['Age']].mean()) #fill with mean\n",
    "df[['Sex']] = df[['Sex']].fillna(method='bfill') #fill with bfill\n",
    "df[['Race']] = df[['Race']].fillna(method='bfill') # fill with bfill\n",
    "df[['MannerofDeath']] = df[['MannerofDeath']].fillna(method='bfill') # fill with bfill\n",
    "print(\"- missing data after -\")\n",
    "print(df.isnull().sum()) # check missing data"
   ]
  },
  {
   "cell_type": "code",
   "execution_count": 5,
   "metadata": {},
   "outputs": [
    {
     "name": "stdout",
     "output_type": "stream",
     "text": [
      "White                     4036\n",
      "Hispanic, White            562\n",
      "Black                      436\n",
      "Hispanic, Black             24\n",
      "Asian, Other                18\n",
      "Asian Indian                14\n",
      "Other                       11\n",
      "Chinese                      2\n",
      "Native American, Other       1\n",
      "Hawaiian                     1\n",
      "Name: Race, dtype: int64\n",
      "\n",
      "\n",
      " White              4036\n",
      "Hispanic            586\n",
      "Black               436\n",
      "Asian                18\n",
      "Asian Indian         14\n",
      "Other                11\n",
      "Chinese               2\n",
      "Native American       1\n",
      "Hawaiian              1\n",
      "Name: Race, dtype: int64\n"
     ]
    }
   ],
   "source": [
    "print(df['Race'].value_counts())\n",
    "df['Race'] = df.Race.str.split(',').str[0] # 여러개의 인종이 있는 경우 앞에 있는 인종 선택\n",
    "print('\\n\\n',df['Race'].value_counts())"
   ]
  },
  {
   "cell_type": "code",
   "execution_count": 6,
   "metadata": {},
   "outputs": [
    {
     "name": "stdout",
     "output_type": "stream",
     "text": [
      "- Before -\n",
      "\n",
      "Y           2228\n",
      "Y-A            2\n",
      "Y POPS         1\n",
      "Y (PTCH)       1\n",
      "Name: Fentanyl, dtype: int64\n",
      "\n",
      " Y                   38\n",
      "STOLE MEDS           1\n",
      "PCP NEG              1\n",
      "YES                  1\n",
      "NO RX BUT STRAWS     1\n",
      "Name: Morphine_NotHeroin, dtype: int64\n",
      "\n",
      " Y    2460\n",
      "N       6\n",
      "Name: AnyOpioid, dtype: int64\n",
      "\n",
      "- After -\n",
      "\n",
      "Y    2232\n",
      "Name: Fentanyl, dtype: int64\n",
      "\n",
      " Y    42\n",
      "Name: Morphine_NotHeroin, dtype: int64\n",
      "\n",
      " Y    2460\n",
      "Name: AnyOpioid, dtype: int64\n"
     ]
    }
   ],
   "source": [
    "# 약물\n",
    "print('- Before -\\n')\n",
    "print(df['Fentanyl'].value_counts())\n",
    "print('\\n',df['Morphine_NotHeroin'].value_counts())\n",
    "print('\\n',df['AnyOpioid'].value_counts())\n",
    "\n",
    "df[['Fentanyl']] = df[['Fentanyl']].replace(['Y-A', 'Y POPS', 'Y (PTCH)'], 'Y') # replace 'Y-A', 'Y POPS', 'Y (PTCH)' to 'Y'\n",
    "df[['Morphine_NotHeroin']] = df[['Morphine_NotHeroin']].replace(['STOLE MEDS', 'YES', 'NO RX BUT STRAWS', 'PCP NEG'], 'Y') # replace 'Y-A', 'Y POPS', 'Y (PTCH)' to 'Y'\n",
    "df[['AnyOpioid']] = df[['AnyOpioid']].replace('N', np.nan) # replace 'Y-A', 'Y POPS', 'Y (PTCH)' to 'Y'\n",
    "\n",
    "print('\\n- After -\\n')\n",
    "print(df['Fentanyl'].value_counts())\n",
    "print('\\n',df['Morphine_NotHeroin'].value_counts())\n",
    "print('\\n',df['AnyOpioid'].value_counts())"
   ]
  },
  {
   "cell_type": "code",
   "execution_count": 7,
   "metadata": {},
   "outputs": [
    {
     "name": "stdout",
     "output_type": "stream",
     "text": [
      "D    3333\n",
      "C    1622\n",
      "E     124\n",
      "B      26\n",
      "Name: Age_band, dtype: int64\n"
     ]
    }
   ],
   "source": [
    "# 나이 그룹짓기\n",
    "# 영유아(0~5세) : 0\n",
    "# 아동, 청소년(6~18세) : 1\n",
    "# 청년(19~34세) : 2\n",
    "# 중장년(35~64세) : 3\n",
    "# 노인(65세~) : 4\n",
    "df['Age_band'] = 0\n",
    "#df['Age'] = pd.to_numeric(df['Age'])\n",
    "df.loc[df['Age']<=5, 'Age_band'] = 'A'\n",
    "df.loc[(df['Age']>5)&(df['Age']<=18), 'Age_band'] = 'B'\n",
    "df.loc[(df['Age']>18)&(df['Age']<=34), 'Age_band'] = 'C'\n",
    "df.loc[(df['Age']>34)&(df['Age']<=64), 'Age_band'] = 'D'\n",
    "df.loc[df['Age']>64, 'Age_band'] = 'E'\n",
    "\n",
    "print(df['Age_band'].value_counts())"
   ]
  },
  {
   "cell_type": "code",
   "execution_count": null,
   "metadata": {},
   "outputs": [],
   "source": [
    "# Convert categorical data to numeric data"
   ]
  }
 ],
 "metadata": {
  "kernelspec": {
   "display_name": "Python 3",
   "language": "python",
   "name": "python3"
  },
  "language_info": {
   "codemirror_mode": {
    "name": "ipython",
    "version": 3
   },
   "file_extension": ".py",
   "mimetype": "text/x-python",
   "name": "python",
   "nbconvert_exporter": "python",
   "pygments_lexer": "ipython3",
   "version": "3.6.5"
  }
 },
 "nbformat": 4,
 "nbformat_minor": 2
}
