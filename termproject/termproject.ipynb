{
 "cells": [
  {
   "cell_type": "markdown",
   "metadata": {},
   "source": [
    "# 1. Data Curation"
   ]
  },
  {
   "cell_type": "code",
   "execution_count": 2,
   "metadata": {},
   "outputs": [],
   "source": [
    "import numpy as np\n",
    "import pandas as pd\n",
    "from sklearn.grid_search import GridSearchCV\n",
    "import warnings\n",
    "\n",
    "warnings.filterwarnings('ignore')\n",
    "\n",
    "# 1. Data Curation\n",
    "# https://catalog.data.gov/dataset/accidental-drug-related-deaths-january-2012-sept-2015\n",
    "df = pd.read_csv(\"Accidental_Drug_Related_Deaths_2012-2018.csv\", encoding='cp1252')"
   ]
  },
  {
   "cell_type": "markdown",
   "metadata": {},
   "source": [
    "# 2. Data Inspection"
   ]
  },
  {
   "cell_type": "code",
   "execution_count": 3,
   "metadata": {},
   "outputs": [
    {
     "name": "stdout",
     "output_type": "stream",
     "text": [
      "(5105, 42)\n"
     ]
    },
    {
     "data": {
      "text/html": [
       "<div>\n",
       "<style scoped>\n",
       "    .dataframe tbody tr th:only-of-type {\n",
       "        vertical-align: middle;\n",
       "    }\n",
       "\n",
       "    .dataframe tbody tr th {\n",
       "        vertical-align: top;\n",
       "    }\n",
       "\n",
       "    .dataframe thead th {\n",
       "        text-align: right;\n",
       "    }\n",
       "</style>\n",
       "<table border=\"1\" class=\"dataframe\">\n",
       "  <thead>\n",
       "    <tr style=\"text-align: right;\">\n",
       "      <th></th>\n",
       "      <th>ID</th>\n",
       "      <th>Date</th>\n",
       "      <th>DateType</th>\n",
       "      <th>Age</th>\n",
       "      <th>Sex</th>\n",
       "      <th>Race</th>\n",
       "      <th>ResidenceCity</th>\n",
       "      <th>ResidenceCounty</th>\n",
       "      <th>ResidenceState</th>\n",
       "      <th>DeathCity</th>\n",
       "      <th>...</th>\n",
       "      <th>Morphine_NotHeroin</th>\n",
       "      <th>Hydromorphone</th>\n",
       "      <th>Other</th>\n",
       "      <th>OpiateNOS</th>\n",
       "      <th>AnyOpioid</th>\n",
       "      <th>MannerofDeath</th>\n",
       "      <th>DeathCityGeo</th>\n",
       "      <th>ResidenceCityGeo</th>\n",
       "      <th>InjuryCityGeo</th>\n",
       "      <th>Death</th>\n",
       "    </tr>\n",
       "  </thead>\n",
       "  <tbody>\n",
       "    <tr>\n",
       "      <th>count</th>\n",
       "      <td>5105</td>\n",
       "      <td>5103</td>\n",
       "      <td>5103</td>\n",
       "      <td>5102.000000</td>\n",
       "      <td>5099</td>\n",
       "      <td>5092</td>\n",
       "      <td>4932</td>\n",
       "      <td>4308</td>\n",
       "      <td>3556</td>\n",
       "      <td>5100</td>\n",
       "      <td>...</td>\n",
       "      <td>43</td>\n",
       "      <td>25</td>\n",
       "      <td>435</td>\n",
       "      <td>88</td>\n",
       "      <td>2466</td>\n",
       "      <td>5095</td>\n",
       "      <td>5105</td>\n",
       "      <td>5012</td>\n",
       "      <td>5027</td>\n",
       "      <td>5097</td>\n",
       "    </tr>\n",
       "    <tr>\n",
       "      <th>unique</th>\n",
       "      <td>5105</td>\n",
       "      <td>2098</td>\n",
       "      <td>2</td>\n",
       "      <td>NaN</td>\n",
       "      <td>3</td>\n",
       "      <td>11</td>\n",
       "      <td>370</td>\n",
       "      <td>84</td>\n",
       "      <td>26</td>\n",
       "      <td>222</td>\n",
       "      <td>...</td>\n",
       "      <td>5</td>\n",
       "      <td>1</td>\n",
       "      <td>134</td>\n",
       "      <td>1</td>\n",
       "      <td>2</td>\n",
       "      <td>5</td>\n",
       "      <td>374</td>\n",
       "      <td>289</td>\n",
       "      <td>226</td>\n",
       "      <td>2</td>\n",
       "    </tr>\n",
       "    <tr>\n",
       "      <th>top</th>\n",
       "      <td>16-0516</td>\n",
       "      <td>06/18/2017 12:00:00 AM</td>\n",
       "      <td>DateofDeath</td>\n",
       "      <td>NaN</td>\n",
       "      <td>Male</td>\n",
       "      <td>White</td>\n",
       "      <td>HARTFORD</td>\n",
       "      <td>HARTFORD</td>\n",
       "      <td>CT</td>\n",
       "      <td>HARTFORD</td>\n",
       "      <td>...</td>\n",
       "      <td>Y</td>\n",
       "      <td>Y</td>\n",
       "      <td>PCP</td>\n",
       "      <td>Y</td>\n",
       "      <td>Y</td>\n",
       "      <td>Accident</td>\n",
       "      <td>Hartford, CT\\n(41.765775, -72.673356)</td>\n",
       "      <td>HARTFORD, CT\\n(41.765775, -72.673356)</td>\n",
       "      <td>CT\\n(41.575155, -72.738288)</td>\n",
       "      <td>No</td>\n",
       "    </tr>\n",
       "    <tr>\n",
       "      <th>freq</th>\n",
       "      <td>1</td>\n",
       "      <td>9</td>\n",
       "      <td>2822</td>\n",
       "      <td>NaN</td>\n",
       "      <td>3773</td>\n",
       "      <td>4004</td>\n",
       "      <td>296</td>\n",
       "      <td>1205</td>\n",
       "      <td>3442</td>\n",
       "      <td>563</td>\n",
       "      <td>...</td>\n",
       "      <td>39</td>\n",
       "      <td>25</td>\n",
       "      <td>48</td>\n",
       "      <td>88</td>\n",
       "      <td>2460</td>\n",
       "      <td>5066</td>\n",
       "      <td>379</td>\n",
       "      <td>296</td>\n",
       "      <td>1756</td>\n",
       "      <td>2906</td>\n",
       "    </tr>\n",
       "    <tr>\n",
       "      <th>mean</th>\n",
       "      <td>NaN</td>\n",
       "      <td>NaN</td>\n",
       "      <td>NaN</td>\n",
       "      <td>41.964916</td>\n",
       "      <td>NaN</td>\n",
       "      <td>NaN</td>\n",
       "      <td>NaN</td>\n",
       "      <td>NaN</td>\n",
       "      <td>NaN</td>\n",
       "      <td>NaN</td>\n",
       "      <td>...</td>\n",
       "      <td>NaN</td>\n",
       "      <td>NaN</td>\n",
       "      <td>NaN</td>\n",
       "      <td>NaN</td>\n",
       "      <td>NaN</td>\n",
       "      <td>NaN</td>\n",
       "      <td>NaN</td>\n",
       "      <td>NaN</td>\n",
       "      <td>NaN</td>\n",
       "      <td>NaN</td>\n",
       "    </tr>\n",
       "    <tr>\n",
       "      <th>std</th>\n",
       "      <td>NaN</td>\n",
       "      <td>NaN</td>\n",
       "      <td>NaN</td>\n",
       "      <td>12.336639</td>\n",
       "      <td>NaN</td>\n",
       "      <td>NaN</td>\n",
       "      <td>NaN</td>\n",
       "      <td>NaN</td>\n",
       "      <td>NaN</td>\n",
       "      <td>NaN</td>\n",
       "      <td>...</td>\n",
       "      <td>NaN</td>\n",
       "      <td>NaN</td>\n",
       "      <td>NaN</td>\n",
       "      <td>NaN</td>\n",
       "      <td>NaN</td>\n",
       "      <td>NaN</td>\n",
       "      <td>NaN</td>\n",
       "      <td>NaN</td>\n",
       "      <td>NaN</td>\n",
       "      <td>NaN</td>\n",
       "    </tr>\n",
       "    <tr>\n",
       "      <th>min</th>\n",
       "      <td>NaN</td>\n",
       "      <td>NaN</td>\n",
       "      <td>NaN</td>\n",
       "      <td>14.000000</td>\n",
       "      <td>NaN</td>\n",
       "      <td>NaN</td>\n",
       "      <td>NaN</td>\n",
       "      <td>NaN</td>\n",
       "      <td>NaN</td>\n",
       "      <td>NaN</td>\n",
       "      <td>...</td>\n",
       "      <td>NaN</td>\n",
       "      <td>NaN</td>\n",
       "      <td>NaN</td>\n",
       "      <td>NaN</td>\n",
       "      <td>NaN</td>\n",
       "      <td>NaN</td>\n",
       "      <td>NaN</td>\n",
       "      <td>NaN</td>\n",
       "      <td>NaN</td>\n",
       "      <td>NaN</td>\n",
       "    </tr>\n",
       "    <tr>\n",
       "      <th>25%</th>\n",
       "      <td>NaN</td>\n",
       "      <td>NaN</td>\n",
       "      <td>NaN</td>\n",
       "      <td>32.000000</td>\n",
       "      <td>NaN</td>\n",
       "      <td>NaN</td>\n",
       "      <td>NaN</td>\n",
       "      <td>NaN</td>\n",
       "      <td>NaN</td>\n",
       "      <td>NaN</td>\n",
       "      <td>...</td>\n",
       "      <td>NaN</td>\n",
       "      <td>NaN</td>\n",
       "      <td>NaN</td>\n",
       "      <td>NaN</td>\n",
       "      <td>NaN</td>\n",
       "      <td>NaN</td>\n",
       "      <td>NaN</td>\n",
       "      <td>NaN</td>\n",
       "      <td>NaN</td>\n",
       "      <td>NaN</td>\n",
       "    </tr>\n",
       "    <tr>\n",
       "      <th>50%</th>\n",
       "      <td>NaN</td>\n",
       "      <td>NaN</td>\n",
       "      <td>NaN</td>\n",
       "      <td>42.000000</td>\n",
       "      <td>NaN</td>\n",
       "      <td>NaN</td>\n",
       "      <td>NaN</td>\n",
       "      <td>NaN</td>\n",
       "      <td>NaN</td>\n",
       "      <td>NaN</td>\n",
       "      <td>...</td>\n",
       "      <td>NaN</td>\n",
       "      <td>NaN</td>\n",
       "      <td>NaN</td>\n",
       "      <td>NaN</td>\n",
       "      <td>NaN</td>\n",
       "      <td>NaN</td>\n",
       "      <td>NaN</td>\n",
       "      <td>NaN</td>\n",
       "      <td>NaN</td>\n",
       "      <td>NaN</td>\n",
       "    </tr>\n",
       "    <tr>\n",
       "      <th>75%</th>\n",
       "      <td>NaN</td>\n",
       "      <td>NaN</td>\n",
       "      <td>NaN</td>\n",
       "      <td>52.000000</td>\n",
       "      <td>NaN</td>\n",
       "      <td>NaN</td>\n",
       "      <td>NaN</td>\n",
       "      <td>NaN</td>\n",
       "      <td>NaN</td>\n",
       "      <td>NaN</td>\n",
       "      <td>...</td>\n",
       "      <td>NaN</td>\n",
       "      <td>NaN</td>\n",
       "      <td>NaN</td>\n",
       "      <td>NaN</td>\n",
       "      <td>NaN</td>\n",
       "      <td>NaN</td>\n",
       "      <td>NaN</td>\n",
       "      <td>NaN</td>\n",
       "      <td>NaN</td>\n",
       "      <td>NaN</td>\n",
       "    </tr>\n",
       "    <tr>\n",
       "      <th>max</th>\n",
       "      <td>NaN</td>\n",
       "      <td>NaN</td>\n",
       "      <td>NaN</td>\n",
       "      <td>87.000000</td>\n",
       "      <td>NaN</td>\n",
       "      <td>NaN</td>\n",
       "      <td>NaN</td>\n",
       "      <td>NaN</td>\n",
       "      <td>NaN</td>\n",
       "      <td>NaN</td>\n",
       "      <td>...</td>\n",
       "      <td>NaN</td>\n",
       "      <td>NaN</td>\n",
       "      <td>NaN</td>\n",
       "      <td>NaN</td>\n",
       "      <td>NaN</td>\n",
       "      <td>NaN</td>\n",
       "      <td>NaN</td>\n",
       "      <td>NaN</td>\n",
       "      <td>NaN</td>\n",
       "      <td>NaN</td>\n",
       "    </tr>\n",
       "  </tbody>\n",
       "</table>\n",
       "<p>11 rows × 42 columns</p>\n",
       "</div>"
      ],
      "text/plain": [
       "             ID                    Date     DateType          Age   Sex  \\\n",
       "count      5105                    5103         5103  5102.000000  5099   \n",
       "unique     5105                    2098            2          NaN     3   \n",
       "top     16-0516  06/18/2017 12:00:00 AM  DateofDeath          NaN  Male   \n",
       "freq          1                       9         2822          NaN  3773   \n",
       "mean        NaN                     NaN          NaN    41.964916   NaN   \n",
       "std         NaN                     NaN          NaN    12.336639   NaN   \n",
       "min         NaN                     NaN          NaN    14.000000   NaN   \n",
       "25%         NaN                     NaN          NaN    32.000000   NaN   \n",
       "50%         NaN                     NaN          NaN    42.000000   NaN   \n",
       "75%         NaN                     NaN          NaN    52.000000   NaN   \n",
       "max         NaN                     NaN          NaN    87.000000   NaN   \n",
       "\n",
       "         Race ResidenceCity ResidenceCounty ResidenceState DeathCity  ...   \\\n",
       "count    5092          4932            4308           3556      5100  ...    \n",
       "unique     11           370              84             26       222  ...    \n",
       "top     White      HARTFORD        HARTFORD             CT  HARTFORD  ...    \n",
       "freq     4004           296            1205           3442       563  ...    \n",
       "mean      NaN           NaN             NaN            NaN       NaN  ...    \n",
       "std       NaN           NaN             NaN            NaN       NaN  ...    \n",
       "min       NaN           NaN             NaN            NaN       NaN  ...    \n",
       "25%       NaN           NaN             NaN            NaN       NaN  ...    \n",
       "50%       NaN           NaN             NaN            NaN       NaN  ...    \n",
       "75%       NaN           NaN             NaN            NaN       NaN  ...    \n",
       "max       NaN           NaN             NaN            NaN       NaN  ...    \n",
       "\n",
       "       Morphine_NotHeroin Hydromorphone Other OpiateNOS AnyOpioid  \\\n",
       "count                  43            25   435        88      2466   \n",
       "unique                  5             1   134         1         2   \n",
       "top                     Y             Y   PCP         Y         Y   \n",
       "freq                   39            25    48        88      2460   \n",
       "mean                  NaN           NaN   NaN       NaN       NaN   \n",
       "std                   NaN           NaN   NaN       NaN       NaN   \n",
       "min                   NaN           NaN   NaN       NaN       NaN   \n",
       "25%                   NaN           NaN   NaN       NaN       NaN   \n",
       "50%                   NaN           NaN   NaN       NaN       NaN   \n",
       "75%                   NaN           NaN   NaN       NaN       NaN   \n",
       "max                   NaN           NaN   NaN       NaN       NaN   \n",
       "\n",
       "       MannerofDeath                           DeathCityGeo  \\\n",
       "count           5095                                   5105   \n",
       "unique             5                                    374   \n",
       "top         Accident  Hartford, CT\\n(41.765775, -72.673356)   \n",
       "freq            5066                                    379   \n",
       "mean             NaN                                    NaN   \n",
       "std              NaN                                    NaN   \n",
       "min              NaN                                    NaN   \n",
       "25%              NaN                                    NaN   \n",
       "50%              NaN                                    NaN   \n",
       "75%              NaN                                    NaN   \n",
       "max              NaN                                    NaN   \n",
       "\n",
       "                             ResidenceCityGeo                InjuryCityGeo  \\\n",
       "count                                    5012                         5027   \n",
       "unique                                    289                          226   \n",
       "top     HARTFORD, CT\\n(41.765775, -72.673356)  CT\\n(41.575155, -72.738288)   \n",
       "freq                                      296                         1756   \n",
       "mean                                      NaN                          NaN   \n",
       "std                                       NaN                          NaN   \n",
       "min                                       NaN                          NaN   \n",
       "25%                                       NaN                          NaN   \n",
       "50%                                       NaN                          NaN   \n",
       "75%                                       NaN                          NaN   \n",
       "max                                       NaN                          NaN   \n",
       "\n",
       "       Death  \n",
       "count   5097  \n",
       "unique     2  \n",
       "top       No  \n",
       "freq    2906  \n",
       "mean     NaN  \n",
       "std      NaN  \n",
       "min      NaN  \n",
       "25%      NaN  \n",
       "50%      NaN  \n",
       "75%      NaN  \n",
       "max      NaN  \n",
       "\n",
       "[11 rows x 42 columns]"
      ]
     },
     "execution_count": 3,
     "metadata": {},
     "output_type": "execute_result"
    }
   ],
   "source": [
    "print(df.shape)\n",
    "\n",
    "df.describe(include='all')"
   ]
  },
  {
   "cell_type": "code",
   "execution_count": 4,
   "metadata": {},
   "outputs": [
    {
     "name": "stdout",
     "output_type": "stream",
     "text": [
      "ID                        0\n",
      "Date                      2\n",
      "DateType                  2\n",
      "Age                       3\n",
      "Sex                       6\n",
      "Race                     13\n",
      "ResidenceCity           173\n",
      "ResidenceCounty         797\n",
      "ResidenceState         1549\n",
      "DeathCity                 5\n",
      "DeathCounty            1100\n",
      "Location                 24\n",
      "LocationifOther        4515\n",
      "DescriptionofInjury     780\n",
      "InjuryPlace              66\n",
      "InjuryCity             1756\n",
      "InjuryCounty           2741\n",
      "InjuryState            3681\n",
      "COD                       0\n",
      "OtherSignifican        4936\n",
      "Heroin                 2576\n",
      "Cocaine                3583\n",
      "Fentanyl               2873\n",
      "FentanylAnalogue       4715\n",
      "Oxycodone              4496\n",
      "Oxymorphone            4996\n",
      "Ethanol                3857\n",
      "Hydrocodone            4986\n",
      "Benzodiazepine         3762\n",
      "Methadone              4631\n",
      "Amphet                 4945\n",
      "Tramad                 4975\n",
      "Morphine_NotHeroin     5062\n",
      "Hydromorphone          5080\n",
      "Other                  4670\n",
      "OpiateNOS              5017\n",
      "AnyOpioid              2639\n",
      "MannerofDeath            10\n",
      "DeathCityGeo              0\n",
      "ResidenceCityGeo         93\n",
      "InjuryCityGeo            78\n",
      "Death                     8\n",
      "dtype: int64\n"
     ]
    }
   ],
   "source": [
    "# missing data\n",
    "print(df.isnull().sum()) # check missing data"
   ]
  },
  {
   "cell_type": "code",
   "execution_count": 6,
   "metadata": {},
   "outputs": [
    {
     "data": {
      "image/png": "[encoded data removed]",
      "text/plain": [
       "<Figure size 432x288 with 1 Axes>"
      ]
     },
     "metadata": {},
     "output_type": "display_data"
    }
   ],
   "source": [
    "import matplotlib.pyplot as plt\n",
    "import seaborn as sns\n",
    "\n",
    "sns.boxplot(df['Age'])\n",
    "plt.show()"
   ]
  },
  {
   "cell_type": "markdown",
   "metadata": {},
   "source": [
    "# 3. Data Preprocessing"
   ]
  },
  {
   "cell_type": "markdown",
   "metadata": {},
   "source": [
    "## 1) Data Restructuring"
   ]
  },
  {
   "cell_type": "code",
   "execution_count": 7,
   "metadata": {},
   "outputs": [
    {
     "name": "stdout",
     "output_type": "stream",
     "text": [
      "    Age     Sex          Race Heroin Cocaine Fentanyl FentanylAnalogue  \\\n",
      "0   NaN     NaN           NaN    NaN     NaN        Y              NaN   \n",
      "1  48.0    Male         Black    NaN       Y      NaN              NaN   \n",
      "2  30.0  Female         White      Y       Y      NaN              NaN   \n",
      "3  23.0    Male         White      Y     NaN        Y              NaN   \n",
      "4  22.0    Male  Asian, Other    NaN     NaN        Y              NaN   \n",
      "\n",
      "  Oxycodone Oxymorphone Ethanol Hydrocodone Benzodiazepine Methadone Amphet  \\\n",
      "0       NaN         NaN     NaN           Y              Y       NaN    NaN   \n",
      "1       NaN         NaN     NaN         NaN            NaN       NaN    NaN   \n",
      "2       NaN         NaN     NaN         NaN            NaN       NaN    NaN   \n",
      "3       NaN         NaN     NaN         NaN            NaN       NaN    NaN   \n",
      "4       NaN         NaN     NaN         NaN            NaN       NaN    NaN   \n",
      "\n",
      "  Tramad Morphine_NotHeroin Hydromorphone Other Death  \n",
      "0    NaN                NaN           NaN   NaN   Yes  \n",
      "1    NaN                NaN           NaN   NaN    No  \n",
      "2    NaN                NaN           NaN   NaN    No  \n",
      "3    NaN                NaN           NaN   NaN    No  \n",
      "4    NaN                NaN           NaN   NaN    No  \n"
     ]
    }
   ],
   "source": [
    "# table vertical decomposition\n",
    "# remove features do not affect on accidental drug with death\n",
    "df.drop(['ID', 'Date', 'DateType', 'ResidenceCity', 'ResidenceCounty', 'ResidenceState', 'DeathCity', 'DeathCounty',\n",
    "        'Location', 'LocationifOther', 'DescriptionofInjury', 'InjuryPlace', 'InjuryCity', 'InjuryCounty', 'InjuryState', \n",
    "         'COD', 'OtherSignifican', 'DeathCityGeo', 'ResidenceCityGeo', 'InjuryCityGeo', 'MannerofDeath',\n",
    "        'OpiateNOS', 'AnyOpioid'], 1, inplace=True)\n",
    "print(df.head(5))"
   ]
  },
  {
   "cell_type": "markdown",
   "metadata": {},
   "source": [
    "## 2) Data Value Changes"
   ]
  },
  {
   "cell_type": "markdown",
   "metadata": {},
   "source": [
    "* Cleaning dirty data"
   ]
  },
  {
   "cell_type": "code",
   "execution_count": 8,
   "metadata": {},
   "outputs": [
    {
     "name": "stdout",
     "output_type": "stream",
     "text": [
      "- missing data before -\n",
      "Age                      3\n",
      "Sex                      6\n",
      "Race                    13\n",
      "Heroin                2576\n",
      "Cocaine               3583\n",
      "Fentanyl              2873\n",
      "FentanylAnalogue      4715\n",
      "Oxycodone             4496\n",
      "Oxymorphone           4996\n",
      "Ethanol               3857\n",
      "Hydrocodone           4986\n",
      "Benzodiazepine        3762\n",
      "Methadone             4631\n",
      "Amphet                4945\n",
      "Tramad                4975\n",
      "Morphine_NotHeroin    5062\n",
      "Hydromorphone         5080\n",
      "Other                 4670\n",
      "Death                    8\n",
      "dtype: int64\n",
      "- missing data after  -\n",
      "Age                      3\n",
      "Sex                      7\n",
      "Race                    36\n",
      "Heroin                2576\n",
      "Cocaine               3583\n",
      "Fentanyl              2873\n",
      "FentanylAnalogue      4715\n",
      "Oxycodone             4496\n",
      "Oxymorphone           4996\n",
      "Ethanol               3857\n",
      "Hydrocodone           4986\n",
      "Benzodiazepine        3762\n",
      "Methadone             4631\n",
      "Amphet                4945\n",
      "Tramad                4975\n",
      "Morphine_NotHeroin    5062\n",
      "Hydromorphone         5080\n",
      "Other                 4670\n",
      "Death                    8\n",
      "dtype: int64\n"
     ]
    },
    {
     "data": {
      "image/png": "[encoded data removed]",
      "text/plain": [
       "<Figure size 432x288 with 1 Axes>"
      ]
     },
     "metadata": {},
     "output_type": "display_data"
    },
    {
     "name": "stdout",
     "output_type": "stream",
     "text": [
      "- missing data after -\n",
      "Age                      0\n",
      "Sex                      0\n",
      "Race                     0\n",
      "Heroin                2567\n",
      "Cocaine               3575\n",
      "Fentanyl              2868\n",
      "FentanylAnalogue      4703\n",
      "Oxycodone             4485\n",
      "Oxymorphone           4984\n",
      "Ethanol               3847\n",
      "Hydrocodone           4975\n",
      "Benzodiazepine        3752\n",
      "Methadone             4620\n",
      "Amphet                4933\n",
      "Tramad                4963\n",
      "Morphine_NotHeroin    5050\n",
      "Hydromorphone         5068\n",
      "Other                    0\n",
      "Death                    0\n",
      "dtype: int64\n"
     ]
    }
   ],
   "source": [
    "# Unusable data : replace 'Unknown' to NaN\n",
    "print(\"- missing data before -\")\n",
    "print(df.isnull().sum()) # check missing data\n",
    "df = df.replace('Unknown', np.nan)\n",
    "print(\"- missing data after  -\")\n",
    "print(df.isnull().sum()) # check missing data\n",
    "\n",
    "# Outliers\n",
    "df = df[df['Age'] < 82]\n",
    "sns.boxplot(df['Age'])\n",
    "plt.show()\n",
    "\n",
    "# Missing data : replace the NaN\n",
    "df[['Age']] = df[['Age']].fillna(df[['Age']].mean()) #fill with mean\n",
    "df[['Sex']] = df[['Sex']].fillna(method='bfill') #fill with bfill\n",
    "df[['Race']] = df[['Race']].fillna(method='bfill') # fill with bfill\n",
    "df[['Other']] = df[['Other']].replace(np.nan, '0') # replace 'Unknown' to 0\n",
    "df = df.dropna(subset=['Death'])\n",
    "print(\"- missing data after -\")\n",
    "print(df.isnull().sum()) # check missing data"
   ]
  },
  {
   "cell_type": "markdown",
   "metadata": {},
   "source": [
    "* Text preprocessing"
   ]
  },
  {
   "cell_type": "code",
   "execution_count": 9,
   "metadata": {},
   "outputs": [
    {
     "name": "stdout",
     "output_type": "stream",
     "text": [
      "White                     4029\n",
      "Hispanic, White            560\n",
      "Black                      433\n",
      "Hispanic, Black             24\n",
      "Asian, Other                18\n",
      "Asian Indian                14\n",
      "Other                       11\n",
      "Chinese                      2\n",
      "Hawaiian                     1\n",
      "Native American, Other       1\n",
      "Name: Race, dtype: int64\n",
      "\n",
      "\n",
      " White              4029\n",
      "Hispanic            584\n",
      "Black               433\n",
      "Asian                18\n",
      "Asian Indian         14\n",
      "Other                11\n",
      "Chinese               2\n",
      "Hawaiian              1\n",
      "Native American       1\n",
      "Name: Race, dtype: int64\n",
      "- Before -\n",
      "\n",
      "Y           2221\n",
      "Y-A            2\n",
      "Y POPS         1\n",
      "Y (PTCH)       1\n",
      "Name: Fentanyl, dtype: int64\n",
      "\n",
      " Y                   39\n",
      "YES                  1\n",
      "PCP NEG              1\n",
      "NO RX BUT STRAWS     1\n",
      "STOLE MEDS           1\n",
      "Name: Morphine_NotHeroin, dtype: int64\n",
      "\n",
      " 0                        4659\n",
      "PCP                        48\n",
      "morphine                   29\n",
      "HYDROMORPH                 28\n",
      "Bupren                     25\n",
      "BUPREN                     23\n",
      "pcp                        16\n",
      "U-47700                    15\n",
      "MORPHINE                   15\n",
      "MORPH                      11\n",
      "Buprenor                   10\n",
      "OPIATE                      9\n",
      "morphine RX                 9\n",
      "opiates                     8\n",
      "BUPRENOR                    6\n",
      "opiate                      5\n",
      "MDMA                        5\n",
      "Morphine                    5\n",
      "Bupreno                     4\n",
      "COD                         4\n",
      "BUPRENO                     4\n",
      "hydromorph                  4\n",
      "ketamine                    4\n",
      "carfentanil                 4\n",
      "opiate screen               4\n",
      "HYDR-MOR                    4\n",
      "4-anpp                      3\n",
      "codeine                     3\n",
      "LOPERAMIDE                  3\n",
      "duster                      3\n",
      "                         ... \n",
      "opioid                      1\n",
      "QUIET                       1\n",
      "BUPREN, DIFLUORO            1\n",
      "Codeine                     1\n",
      "MORPHINE, HYDROMORPH        1\n",
      "buprenor                    1\n",
      "buprop                      1\n",
      "diphen, chlorphen           1\n",
      "Buprnor                     1\n",
      "Bupren, HEXADRONE           1\n",
      "PCP, MORPHINE NOS           1\n",
      "SERT                        1\n",
      "PCP, Buprenor               1\n",
      "HYDMORPH                    1\n",
      "Buprno                      1\n",
      "Mitragynine                 1\n",
      "UK                          1\n",
      "mORPHINE                    1\n",
      "hyd-morph                   1\n",
      "MORPH PCP                   1\n",
      "lsd, hydromorph             1\n",
      "HYDRMORP                    1\n",
      "ZOLP                        1\n",
      "Doxy, phenobarb             1\n",
      "morphine no 6mam            1\n",
      "methoxyPCP                  1\n",
      "difluoroeth                 1\n",
      "mitragine                   1\n",
      "Buprenor, carfentanil       1\n",
      "difluror                    1\n",
      "Name: Other, Length: 135, dtype: int64\n",
      "\n",
      "- After -\n",
      "\n",
      "Y    2225\n",
      "Name: Fentanyl, dtype: int64\n",
      "\n",
      " Y    43\n",
      "Name: Morphine_NotHeroin, dtype: int64\n",
      "\n",
      " 0    4659\n",
      "Y     434\n",
      "Name: Other, dtype: int64\n"
     ]
    }
   ],
   "source": [
    "# tokenization\n",
    "# Text tokenization the race\n",
    "print(df['Race'].value_counts())\n",
    "df['Race'] = df.Race.str.split(',').str[0] # 여러개의 인종이 있는 경우 앞에 있는 인종 선택\n",
    "print('\\n\\n',df['Race'].value_counts())\n",
    "# column value of df['Other']\n",
    "listt = df['Other'].values.tolist()\n",
    "listt = [listt for listt in listt if str(listt) != '0']\n",
    "\n",
    "# Normalization\n",
    "# 약물\n",
    "print('- Before -\\n')\n",
    "print(df['Fentanyl'].value_counts())\n",
    "print('\\n',df['Morphine_NotHeroin'].value_counts())\n",
    "print('\\n',df['Other'].value_counts())\n",
    "df[['Fentanyl']] = df[['Fentanyl']].replace(['Y-A', 'Y POPS', 'Y (PTCH)'], 'Y') # replace 'Y-A', 'Y POPS', 'Y (PTCH)' to 'Y'\n",
    "df[['Morphine_NotHeroin']] = df[['Morphine_NotHeroin']].replace(['STOLE MEDS', 'YES', 'NO RX BUT STRAWS', 'PCP NEG'], 'Y') # replace 'Y-A', 'Y POPS', 'Y (PTCH)' to 'Y'\n",
    "df[['Other']] = df[['Other']].replace([listt], 'Y') # replace 'Y-A', 'Y POPS', 'Y (PTCH)' to 'Y'\n",
    "print('\\n- After -\\n')\n",
    "print(df['Fentanyl'].value_counts())\n",
    "print('\\n',df['Morphine_NotHeroin'].value_counts())\n",
    "print('\\n',df['Other'].value_counts())"
   ]
  },
  {
   "cell_type": "markdown",
   "metadata": {},
   "source": [
    "* Data Discretization (Binning)"
   ]
  },
  {
   "cell_type": "code",
   "execution_count": 10,
   "metadata": {},
   "outputs": [
    {
     "name": "stdout",
     "output_type": "stream",
     "text": [
      "3    3328\n",
      "2    1617\n",
      "4     122\n",
      "1      26\n",
      "Name: Age_band, dtype: int64\n"
     ]
    }
   ],
   "source": [
    "# 나이 그룹짓기\n",
    "# 영유아(0~5세) : 0\n",
    "# 아동, 청소년(6~18세) : 1\n",
    "# 청년(19~34세) : 2\n",
    "# 중장년(35~64세) : 3\n",
    "# 노인(65세~) : 4\n",
    "df['Age_band'] = 0\n",
    "df.loc[df['Age']<=5, 'Age_band'] = '0'\n",
    "df.loc[(df['Age']>5)&(df['Age']<=18), 'Age_band'] = '1'\n",
    "df.loc[(df['Age']>18)&(df['Age']<=34), 'Age_band'] = '2'\n",
    "df.loc[(df['Age']>34)&(df['Age']<=64), 'Age_band'] = '3'\n",
    "df.loc[df['Age']>64, 'Age_band'] = '4'\n",
    "\n",
    "print(df['Age_band'].value_counts())"
   ]
  },
  {
   "cell_type": "markdown",
   "metadata": {},
   "source": [
    "* Encoding for data mining algorithms"
   ]
  },
  {
   "cell_type": "code",
   "execution_count": 11,
   "metadata": {},
   "outputs": [],
   "source": [
    "# Label Encoding\n",
    "from sklearn.preprocessing import LabelEncoder\n",
    "\n",
    "labelEncoder = LabelEncoder()\n",
    "\n",
    "# 0: Female, 1: Male\n",
    "labelEncoder.fit(df['Sex'])\n",
    "df['Sex'] = labelEncoder.transform(df['Sex'])\n",
    "\n",
    "# 0: Asian, 1: Asian Indian, 2: Black, 3: Chinese, 4: Hawaiian, 5: Hispanic, 6: Hispanic American, 7: Other, 8: White\n",
    "labelEncoder.fit(df['Race'])\n",
    "df['Race'] = labelEncoder.transform(df['Race'])\n",
    "\n",
    "# 0: No, 1: Yes\n",
    "labelEncoder.fit(df['Death'])\n",
    "df['Death'] = labelEncoder.transform(df['Death'])\n",
    "\n",
    "# Drug's value change\n",
    "df = df.replace('Y', 1) # replace 'Y' to 1\n",
    "df = df.replace(np.nan, 0) # replace 'np.nan' to 0"
   ]
  },
  {
   "cell_type": "markdown",
   "metadata": {},
   "source": [
    "## 3) Feature Engineering"
   ]
  },
  {
   "cell_type": "code",
   "execution_count": 12,
   "metadata": {},
   "outputs": [
    {
     "name": "stdout",
     "output_type": "stream",
     "text": [
      "1     1.0\n",
      "2     2.0\n",
      "3     2.0\n",
      "4     1.0\n",
      "5     1.0\n",
      "6     1.0\n",
      "7     1.0\n",
      "8     1.0\n",
      "9     1.0\n",
      "10    2.0\n",
      "Name: Drug, dtype: float64\n"
     ]
    }
   ],
   "source": [
    "# Feature Creation\n",
    "# Deriving Features from Existing Features\n",
    "df['Drug']=df.iloc[:, 3:18].sum(1) # the number of drugs taken by one person\n",
    "\n",
    "print(df['Drug'].head(10))"
   ]
  },
  {
   "cell_type": "code",
   "execution_count": 13,
   "metadata": {},
   "outputs": [],
   "source": [
    "df = df[['Sex', 'Race', 'Age_band', 'Drug', 'Death']]\n",
    "# classifier attribute to target\n",
    "feature = df.drop(columns=['Death'])\n",
    "label = df['Death']"
   ]
  },
  {
   "cell_type": "markdown",
   "metadata": {},
   "source": [
    "## 4) Normalization"
   ]
  },
  {
   "cell_type": "code",
   "execution_count": 14,
   "metadata": {},
   "outputs": [
    {
     "data": {
      "image/png": "[encoded data removed]",
      "text/plain": [
       "<Figure size 1440x504 with 4 Axes>"
      ]
     },
     "metadata": {},
     "output_type": "display_data"
    }
   ],
   "source": [
    "from sklearn.preprocessing import StandardScaler, MinMaxScaler, RobustScaler\n",
    "\n",
    "# StandardScaler\n",
    "standardscaler = StandardScaler()\n",
    "Standardscaled = standardscaler.fit_transform(feature)\n",
    "Standardscaled = pd.DataFrame(Standardscaled, columns=['Sex', 'Race', 'Age_band', 'Drug'])\n",
    "\n",
    "# MinMaxScaler\n",
    "MinMaxscaler = MinMaxScaler()\n",
    "MinMaxscaled = MinMaxscaler.fit_transform(feature)\n",
    "MinMaxscaled = pd.DataFrame(MinMaxscaled, columns=['Sex', 'Race', 'Age_band', 'Drug'])\n",
    "\n",
    "# RobustScaler\n",
    "Robustscaler = RobustScaler()\n",
    "Robustscaled = Robustscaler.fit_transform(feature)\n",
    "Robustscaled = pd.DataFrame(Robustscaled, columns=['Sex', 'Race', 'Age_band', 'Drug'])\n",
    "\n",
    "fig, (ax1, ax2, ax3, ax4) = plt.subplots(ncols=4, figsize=(20,7))\n",
    "\n",
    "ax1.set_title('Before Scaling')\n",
    "sns.kdeplot(feature['Sex'], ax=ax1)\n",
    "sns.kdeplot(feature['Race'], ax=ax1)\n",
    "sns.kdeplot(feature['Age_band'], ax=ax1)\n",
    "sns.kdeplot(feature['Drug'], ax=ax1)\n",
    "\n",
    "ax2.set_title('After Standard Scaler')\n",
    "sns.kdeplot(Standardscaled['Sex'], ax=ax2)\n",
    "sns.kdeplot(Standardscaled['Race'], ax=ax2)\n",
    "sns.kdeplot(Standardscaled['Age_band'], ax=ax2)\n",
    "sns.kdeplot(Standardscaled['Drug'], ax=ax2)\n",
    "\n",
    "ax3.set_title('After MinMax Scaler')\n",
    "sns.kdeplot(MinMaxscaled['Sex'], ax=ax3)\n",
    "sns.kdeplot(MinMaxscaled['Race'], ax=ax3)\n",
    "sns.kdeplot(MinMaxscaled['Age_band'], ax=ax3)\n",
    "sns.kdeplot(MinMaxscaled['Drug'], ax=ax3)\n",
    "\n",
    "ax4.set_title('After Robust Scaler')\n",
    "sns.kdeplot(Robustscaled['Sex'], ax=ax4)\n",
    "sns.kdeplot(Robustscaled['Race'], ax=ax4)\n",
    "sns.kdeplot(Robustscaled['Age_band'], ax=ax4)\n",
    "sns.kdeplot(Robustscaled['Drug'], ax=ax4)\n",
    "\n",
    "plt.show()"
   ]
  },
  {
   "cell_type": "code",
   "execution_count": 15,
   "metadata": {},
   "outputs": [
    {
     "data": {
      "text/plain": [
       "<matplotlib.axes._subplots.AxesSubplot at 0x1f92d872ba8>"
      ]
     },
     "execution_count": 15,
     "metadata": {},
     "output_type": "execute_result"
    },
    {
     "data": {
      "image/png": "[encoded data removed]",
      "text/plain": [
       "<Figure size 720x720 with 2 Axes>"
      ]
     },
     "metadata": {},
     "output_type": "display_data"
    }
   ],
   "source": [
    "# correlation matrix\n",
    "plt.figure(figsize=(10,10))\n",
    "sns.heatmap(data = df.corr(), annot=True, fmt = '.2f', linewidths=.5, cmap='Blues')"
   ]
  },
  {
   "cell_type": "markdown",
   "metadata": {},
   "source": [
    "# 4. Data Analysis"
   ]
  },
  {
   "cell_type": "code",
   "execution_count": 16,
   "metadata": {},
   "outputs": [
    {
     "name": "stdout",
     "output_type": "stream",
     "text": [
      "      Sex  Race  Age_band  Drug\n",
      "1744  0.0   0.0       0.0   0.0\n",
      "1507  0.0   0.0      -1.0  -0.5\n",
      "1982  0.0  -6.0       0.0   0.5\n",
      "1448 -1.0  -3.0       0.0  -0.5\n",
      "4062  0.0   0.0       0.0   0.5\n",
      "1615 -1.0   0.0       0.0  -0.5\n",
      "2980  0.0  -6.0       0.0  -0.5\n",
      "2513  0.0   0.0       0.0   0.5\n",
      "2379  0.0   0.0      -1.0  -0.5\n",
      "2357 -1.0   0.0      -1.0  -0.5\n",
      "3247 -1.0   0.0      -1.0   0.5\n",
      "4580 -1.0  -6.0       0.0  -0.5\n",
      "841   0.0   0.0      -1.0  -0.5\n",
      "4132  0.0   0.0      -1.0   0.5\n",
      "4670  0.0   0.0       0.0  -0.5\n",
      "3750  0.0   0.0       0.0  -0.5\n",
      "4382 -1.0   0.0       0.0  -0.5\n",
      "3769  0.0   0.0       0.0   0.0\n",
      "3407  0.0   0.0      -1.0  -0.5\n",
      "1404 -1.0   0.0      -1.0   0.0\n",
      "3943  0.0   0.0       0.0   0.5\n",
      "2964 -1.0   0.0       0.0  -0.5\n",
      "4416 -1.0  -3.0      -1.0   0.0\n",
      "1496  0.0   0.0       0.0   0.0\n",
      "857   0.0   0.0       0.0  -0.5\n",
      "4243 -1.0   0.0       0.0   0.0\n",
      "2810  0.0   0.0      -1.0   0.0\n",
      "1303  0.0   0.0      -1.0   0.0\n",
      "925   0.0   0.0      -1.0  -0.5\n",
      "2966 -1.0   0.0       0.0   0.0\n",
      "...   ...   ...       ...   ...\n",
      "423  -1.0   0.0      -1.0   0.0\n",
      "3219 -1.0   0.0      -1.0   0.0\n",
      "659   0.0   0.0      -1.0  -0.5\n",
      "797   0.0   0.0       0.0  -0.5\n",
      "755  -1.0   0.0       0.0   0.5\n",
      "2008  0.0  -3.0       0.0   0.0\n",
      "99    0.0  -6.0       0.0   0.5\n",
      "2496  0.0   0.0      -1.0   0.0\n",
      "1871 -1.0   0.0       0.0   0.0\n",
      "2046  0.0   0.0      -1.0  -1.0\n",
      "4851  0.0  -6.0       0.0   0.5\n",
      "5072 -1.0   0.0       0.0   1.0\n",
      "2163 -1.0   0.0      -2.0   0.0\n",
      "2893  0.0  -8.0      -1.0   0.0\n",
      "537   0.0   0.0      -1.0   0.0\n",
      "1701  0.0   0.0       0.0  -0.5\n",
      "2897  0.0   0.0       0.0   0.0\n",
      "2222  0.0   0.0       0.0   0.0\n",
      "2135 -1.0  -6.0      -1.0   0.0\n",
      "2599  0.0   0.0      -1.0   2.0\n",
      "705   0.0   0.0       0.0   0.5\n",
      "3468  0.0   0.0       0.0   0.0\n",
      "4373  0.0   0.0       0.0   0.0\n",
      "1033  0.0   0.0       0.0   0.0\n",
      "4859  0.0  -6.0       0.0  -0.5\n",
      "4931 -1.0   0.0       0.0   0.5\n",
      "3264 -1.0   0.0      -1.0  -0.5\n",
      "1653 -1.0   0.0      -2.0  -0.5\n",
      "2607  0.0   0.0       0.0  -0.5\n",
      "2732  0.0   0.0       1.0  -0.5\n",
      "\n",
      "[3565 rows x 4 columns]\n"
     ]
    }
   ],
   "source": [
    "# split dataset into train and test\n",
    "from sklearn.model_selection import train_test_split\n",
    "\n",
    "feature = Robustscaled\n",
    "X_train, X_test, y_train, y_test= train_test_split(feature, label, test_size=0.3, random_state=0)\n",
    "print(X_train)"
   ]
  },
  {
   "cell_type": "markdown",
   "metadata": {},
   "source": [
    "* Decision Tree"
   ]
  },
  {
   "cell_type": "code",
   "execution_count": 18,
   "metadata": {},
   "outputs": [
    {
     "name": "stdout",
     "output_type": "stream",
     "text": [
      "* Decision Tree *\n",
      "Best Parameter : DecisionTreeClassifier(class_weight=None, criterion='gini', max_depth=5,\n",
      "            max_features=None, max_leaf_nodes=10,\n",
      "            min_impurity_decrease=0.0, min_impurity_split=None,\n",
      "            min_samples_leaf=5, min_samples_split=2,\n",
      "            min_weight_fraction_leaf=0.0, presort=False, random_state=30,\n",
      "            splitter='random')\n",
      "High Score : 0.8126227208976157\n"
     ]
    }
   ],
   "source": [
    "from sklearn.tree import DecisionTreeClassifier\n",
    "\n",
    "# parameters of DecisionTreeClassifier\n",
    "decision_param = {'criterion' : ['gini', 'entropy'],\n",
    "                  'splitter' : ['best', 'random'],\n",
    "                  'max_depth' : [1, 5, 10, 15],\n",
    "                  'min_samples_split' : [2, 10, 20],\n",
    "                  'min_samples_leaf' : [1, 5, 10],\n",
    "                  'random_state' : [30, 50, 100],\n",
    "                  'max_leaf_nodes' : [5, 10, 20, 30, 40, 50]}\n",
    "\n",
    "# Create a Decision model\n",
    "decision = DecisionTreeClassifier()\n",
    "\n",
    "# Bulid GridSearchCV which find the parameter combination with the highest score\n",
    "grid_decision = GridSearchCV(decision, param_grid = decision_param, scoring = 'accuracy', cv = 5)\n",
    "\n",
    "# Training Decision Tree GridSearchCV\n",
    "grid_decision.fit(X_train, y_train)\n",
    "\n",
    "# The highest score and the best parameter combination\n",
    "print(\"* Decision Tree *\")\n",
    "print(\"Best Parameter :\", grid_decision.best_estimator_) # return the best combination parameter\n",
    "print(\"High Score :\", grid_decision.best_score_) # return the best parameter with the highest score\n",
    "\n",
    "# Test GridSearchCV using test data set\n",
    "y_pred_decision = grid_decision.best_estimator_.predict(X_test)"
   ]
  },
  {
   "cell_type": "markdown",
   "metadata": {},
   "source": [
    "* Logistic Regression"
   ]
  },
  {
   "cell_type": "code",
   "execution_count": 19,
   "metadata": {},
   "outputs": [
    {
     "name": "stdout",
     "output_type": "stream",
     "text": [
      "* Logistic Regression *\n",
      "Best Parameter : LogisticRegression(C=1.0, class_weight=None, dual=False, fit_intercept=True,\n",
      "          intercept_scaling=1, max_iter=50, multi_class='ovr', n_jobs=1,\n",
      "          penalty='l2', random_state=None, solver='lbfgs', tol=0.0001,\n",
      "          verbose=0, warm_start=False)\n",
      "High Score : 0.8115007012622721\n"
     ]
    }
   ],
   "source": [
    "from sklearn.linear_model import LogisticRegression\n",
    "\n",
    "# parameters of Logictic Regression\n",
    "logistic_param = {'solver' : ['lbfgs', 'liblinear', 'sag', 'saga'],\n",
    "                  'max_iter' : [50, 100, 200]}\n",
    "\n",
    "# Create Logistic Regression model\n",
    "logistic = LogisticRegression()\n",
    "\n",
    "# Bulid GridSearchCV which find the parameter combination with the highest score\n",
    "grid_logistic = GridSearchCV(logistic, param_grid = logistic_param, scoring = 'accuracy', cv = 10)\n",
    "\n",
    "# Training Decision Tree GridSearchCV\n",
    "grid_logistic.fit(X_train, y_train)\n",
    "\n",
    "# The highest score and the best parameter combination\n",
    "print(\"* Logistic Regression *\")\n",
    "print(\"Best Parameter :\", grid_logistic.best_estimator_) # return the best combination parameter\n",
    "print(\"High Score :\", grid_logistic.best_score_) # return the best parameter with the highest score\n",
    "\n",
    "# Test GridSearchCV using test data set\n",
    "y_pred_logistic = grid_logistic.best_estimator_.predict(X_test)"
   ]
  },
  {
   "cell_type": "markdown",
   "metadata": {},
   "source": [
    "# 5. Evaluation"
   ]
  },
  {
   "cell_type": "markdown",
   "metadata": {},
   "source": [
    "## 1) Evaluation Methods"
   ]
  },
  {
   "cell_type": "markdown",
   "metadata": {},
   "source": [
    "### - k-fold cross-validation"
   ]
  },
  {
   "cell_type": "code",
   "execution_count": 20,
   "metadata": {},
   "outputs": [
    {
     "name": "stdout",
     "output_type": "stream",
     "text": [
      "[Decision Tree]\n",
      "[0.69607843 0.81372549 0.84313725 0.80980392 0.79764244 0.80157171\n",
      " 0.78781925 0.79960707 0.77013752 0.86614173]\n",
      "cv_scores mean: 0.7985664826393408\n",
      "\n",
      "[Logistic Regression]\n",
      "[0.70196078 0.82156863 0.84901961 0.81372549 0.79764244 0.80157171\n",
      " 0.79371316 0.80353635 0.77210216 0.86614173]\n",
      "cv_scores mean: 0.8020982057411551\n"
     ]
    }
   ],
   "source": [
    "from sklearn.model_selection import cross_val_score\n",
    "\n",
    "# Decision Tree\n",
    "# Create a Decision model\n",
    "decision = DecisionTreeClassifier()\n",
    "\n",
    "# train model with cv of 10\n",
    "cv_scores = cross_val_score(decision, feature, label, cv=10)\n",
    "\n",
    "# print each cv score (accuracy) and average them\n",
    "print('[Decision Tree]')\n",
    "print(cv_scores)\n",
    "print('cv_scores mean: {}'.format(np.mean(cv_scores)))\n",
    "\n",
    "# Logistic Regression\n",
    "# Create a Decision model\n",
    "logistic = LogisticRegression()\n",
    "\n",
    "# train model with cv of 10\n",
    "cv_scores = cross_val_score(logistic, feature, label, cv=10)\n",
    "\n",
    "# print each cv score (accuracy) and average them\n",
    "print('\\n[Logistic Regression]')\n",
    "print(cv_scores)\n",
    "print('cv_scores mean: {}'.format(np.mean(cv_scores)))"
   ]
  },
  {
   "cell_type": "markdown",
   "metadata": {},
   "source": [
    "## 2) Ensemble Learning"
   ]
  },
  {
   "cell_type": "markdown",
   "metadata": {},
   "source": [
    "### - Random Forest"
   ]
  },
  {
   "cell_type": "code",
   "execution_count": 21,
   "metadata": {},
   "outputs": [
    {
     "name": "stdout",
     "output_type": "stream",
     "text": [
      "* Random Forest *\n",
      "Best Parameter : RandomForestClassifier(bootstrap=True, class_weight=None, criterion='gini',\n",
      "            max_depth=6, max_features='auto', max_leaf_nodes=None,\n",
      "            min_impurity_decrease=0.0, min_impurity_split=None,\n",
      "            min_samples_leaf=5, min_samples_split=2,\n",
      "            min_weight_fraction_leaf=0.0, n_estimators=100, n_jobs=1,\n",
      "            oob_score=False, random_state=None, verbose=0,\n",
      "            warm_start=False)\n",
      "High Score : 0.8120617110799438\n"
     ]
    }
   ],
   "source": [
    "from sklearn.ensemble import RandomForestClassifier\n",
    "\n",
    "# Create a Random Forest\n",
    "rf = RandomForestClassifier()\n",
    "\n",
    "# parameters of RandomForestClassifier\n",
    "rf_param = {'n_estimators' : [100, 200],\n",
    "            'max_depth' : [6, 8, 10, 12],\n",
    "            'min_samples_split' : [2, 3, 5, 10],\n",
    "            'min_samples_leaf' : [3, 5, 7, 10]}\n",
    "\n",
    "# Bulid GridSearchCV which find the parameter combination with the highest score\n",
    "grid_rf = GridSearchCV(rf, param_grid = rf_param, scoring = 'accuracy')\n",
    "\n",
    "# Training Decision Tree GridSearchCV\n",
    "grid_rf.fit(X_train, y_train)\n",
    "\n",
    "# The highest score and the best parameter combination\n",
    "print(\"* Random Forest *\")\n",
    "print(\"Best Parameter :\", grid_rf.best_estimator_) # return the best combination parameter\n",
    "print(\"High Score :\", grid_rf.best_score_) # return the best parameter with the highest score\n",
    "\n",
    "# Test GridSearchCV using test data set\n",
    "y_pred_rf = grid_rf.best_estimator_.predict(X_test)"
   ]
  },
  {
   "cell_type": "markdown",
   "metadata": {},
   "source": [
    "### - Gradient Boosting"
   ]
  },
  {
   "cell_type": "code",
   "execution_count": 23,
   "metadata": {},
   "outputs": [
    {
     "name": "stdout",
     "output_type": "stream",
     "text": [
      "* Gradient Boosting *\n",
      "Best Parameter : GradientBoostingClassifier(criterion='friedman_mse', init=None,\n",
      "              learning_rate=0.05, loss='deviance', max_depth=8,\n",
      "              max_features=None, max_leaf_nodes=None,\n",
      "              min_impurity_decrease=0.0, min_impurity_split=None,\n",
      "              min_samples_leaf=10, min_samples_split=2,\n",
      "              min_weight_fraction_leaf=0.0, n_estimators=100,\n",
      "              presort='auto', random_state=None, subsample=1.0, verbose=0,\n",
      "              warm_start=False)\n",
      "High Score : 0.8095371669004208\n"
     ]
    }
   ],
   "source": [
    "from sklearn.ensemble import GradientBoostingClassifier\n",
    "\n",
    "# Create a Gradient Boosting\n",
    "gradient = GradientBoostingClassifier()\n",
    "\n",
    "# parameters of GradientBoostingClassifier\n",
    "gradient_param = {'n_estimators' : [100, 200],\n",
    "                  'max_depth' : [6, 8, 10, 12],\n",
    "                  'min_samples_split' : [2, 3, 5, 10],\n",
    "                  'min_samples_leaf' : [3, 5, 7, 10],\n",
    "                  'learning_rate' : [0.05, 0.1, 0.2]}\n",
    "\n",
    "# Bulid GridSearchCV which find the parameter combination with the highest score\n",
    "grid_gradient = GridSearchCV(gradient, param_grid = gradient_param, scoring = 'accuracy')\n",
    "\n",
    "# Training Decision Tree GridSearchCV\n",
    "grid_gradient.fit(X_train, y_train)\n",
    "\n",
    "# The highest score and the best parameter combination\n",
    "print(\"* Gradient Boosting *\")\n",
    "print(\"Best Parameter :\", grid_gradient.best_estimator_) # return the best combination parameter\n",
    "print(\"High Score :\", grid_gradient.best_score_) # return the best parameter with the highest score\n",
    "\n",
    "# Test GridSearchCV using test data set\n",
    "y_pred_gradient = grid_gradient.best_estimator_.predict(X_test)"
   ]
  },
  {
   "cell_type": "markdown",
   "metadata": {},
   "source": [
    "### - AdaBoost"
   ]
  },
  {
   "cell_type": "code",
   "execution_count": 25,
   "metadata": {},
   "outputs": [
    {
     "name": "stdout",
     "output_type": "stream",
     "text": [
      "* AdaBoost *\n",
      "Best Parameter : AdaBoostClassifier(algorithm='SAMME.R', base_estimator=None,\n",
      "          learning_rate=0.05, n_estimators=100, random_state=None)\n",
      "High Score : 0.8112201963534362\n"
     ]
    }
   ],
   "source": [
    "from sklearn.ensemble import AdaBoostClassifier\n",
    "\n",
    "# Create a AdaBoost\n",
    "adaboost = AdaBoostClassifier()\n",
    "\n",
    "# parameters of AdaBoostClassifier\n",
    "adaboost_param = {'n_estimators' : [100, 200],\n",
    "                  'learning_rate' : [0.05, 0.1, 0.2]}\n",
    "\n",
    "# Bulid GridSearchCV which find the parameter combination with the highest score\n",
    "grid_adaboost = GridSearchCV(adaboost, param_grid = adaboost_param, scoring = 'accuracy')\n",
    "\n",
    "# Training Decision Tree GridSearchCV\n",
    "grid_adaboost.fit(X_train, y_train)\n",
    "\n",
    "# The highest score and the best parameter combination\n",
    "print(\"* AdaBoost *\")\n",
    "print(\"Best Parameter :\", grid_adaboost.best_estimator_) # return the best combination parameter\n",
    "print(\"High Score :\", grid_adaboost.best_score_) # return the best parameter with the highest score\n",
    "\n",
    "# Test GridSearchCV using test data set\n",
    "y_pred_adaboost = grid_adaboost.best_estimator_.predict(X_test)"
   ]
  },
  {
   "cell_type": "markdown",
   "metadata": {},
   "source": [
    "## 3) Evaluation Metrics"
   ]
  },
  {
   "cell_type": "code",
   "execution_count": 35,
   "metadata": {},
   "outputs": [
    {
     "name": "stdout",
     "output_type": "stream",
     "text": [
      "[Decision Tree]\n"
     ]
    },
    {
     "data": {
      "image/png": "[encoded data removed]",
      "text/plain": [
       "<Figure size 432x288 with 2 Axes>"
      ]
     },
     "metadata": {},
     "output_type": "display_data"
    },
    {
     "name": "stdout",
     "output_type": "stream",
     "text": [
      "             precision    recall  f1-score   support\n",
      "\n",
      "    class 0       0.76      0.89      0.82       858\n",
      "    class 1       0.82      0.64      0.72       670\n",
      "\n",
      "avg / total       0.79      0.78      0.78      1528\n",
      "\n",
      "\n",
      "[Logistic Regression]\n"
     ]
    },
    {
     "data": {
      "image/png": "[encoded data removed]",
      "text/plain": [
       "<Figure size 432x288 with 2 Axes>"
      ]
     },
     "metadata": {},
     "output_type": "display_data"
    },
    {
     "name": "stdout",
     "output_type": "stream",
     "text": [
      "             precision    recall  f1-score   support\n",
      "\n",
      "    class 0       0.76      0.89      0.82       858\n",
      "    class 1       0.82      0.64      0.72       670\n",
      "\n",
      "avg / total       0.79      0.78      0.78      1528\n",
      "\n",
      "\n",
      "[Random Forest]\n"
     ]
    },
    {
     "data": {
      "image/png": "[encoded data removed]",
      "text/plain": [
       "<Figure size 432x288 with 2 Axes>"
      ]
     },
     "metadata": {},
     "output_type": "display_data"
    },
    {
     "name": "stdout",
     "output_type": "stream",
     "text": [
      "             precision    recall  f1-score   support\n",
      "\n",
      "    class 0       0.76      0.89      0.82       858\n",
      "    class 1       0.82      0.64      0.72       670\n",
      "\n",
      "avg / total       0.79      0.78      0.78      1528\n",
      "\n",
      "\n",
      "[Gradient Boosting]\n"
     ]
    },
    {
     "data": {
      "image/png": "[encoded data removed]",
      "text/plain": [
       "<Figure size 432x288 with 2 Axes>"
      ]
     },
     "metadata": {},
     "output_type": "display_data"
    },
    {
     "name": "stdout",
     "output_type": "stream",
     "text": [
      "             precision    recall  f1-score   support\n",
      "\n",
      "    class 0       0.76      0.89      0.82       858\n",
      "    class 1       0.82      0.64      0.72       670\n",
      "\n",
      "avg / total       0.79      0.78      0.78      1528\n",
      "\n",
      "\n",
      "[AdaBoost]\n"
     ]
    },
    {
     "data": {
      "image/png": "[encoded data removed]",
      "text/plain": [
       "<Figure size 432x288 with 2 Axes>"
      ]
     },
     "metadata": {},
     "output_type": "display_data"
    },
    {
     "name": "stdout",
     "output_type": "stream",
     "text": [
      "             precision    recall  f1-score   support\n",
      "\n",
      "    class 0       0.76      0.89      0.82       858\n",
      "    class 1       0.82      0.63      0.71       670\n",
      "\n",
      "avg / total       0.79      0.78      0.77      1528\n",
      "\n"
     ]
    }
   ],
   "source": [
    "from sklearn.metrics import classification_report\n",
    "\n",
    "# Decision Tree\n",
    "# confusion matrix\n",
    "print('[Decision Tree]')\n",
    "confusion_matrix = pd.crosstab(y_test, y_pred_decision, rownames=['Actual'], colnames=['Predicted'], margins= True)\n",
    "sns.heatmap(confusion_matrix, annot=True, fmt = 'd')\n",
    "plt.show()\n",
    "# classification report\n",
    "print(classification_report(y_test, y_pred_decision, target_names=['class 0', 'class 1']))\n",
    "\n",
    "# Logistic Regression\n",
    "# confusion matrix\n",
    "print('\\n[Logistic Regression]')\n",
    "confusion_matrix = pd.crosstab(y_test, y_pred_logistic, rownames=['Actual'], colnames=['Predicted'], margins= True)\n",
    "sns.heatmap(confusion_matrix, annot=True, fmt = 'd')\n",
    "plt.show()\n",
    "# classification report\n",
    "print(classification_report(y_test, y_pred_logistic, target_names=['class 0', 'class 1']))\n",
    "\n",
    "\n",
    "# Random Forest\n",
    "# confusion matrix\n",
    "print('\\n[Random Forest]')\n",
    "confusion_matrix = pd.crosstab(y_test, y_pred_rf, rownames=['Actual'], colnames=['Predicted'], margins= True)\n",
    "sns.heatmap(confusion_matrix, annot=True, fmt = 'd')\n",
    "plt.show()\n",
    "# classification report\n",
    "print(classification_report(y_test, y_pred_rf, target_names=['class 0', 'class 1']))\n",
    "\n",
    "# Gradient Boosting\n",
    "# confusion matrix\n",
    "print('\\n[Gradient Boosting]')\n",
    "confusion_matrix = pd.crosstab(y_test, y_pred_gradient, rownames=['Actual'], colnames=['Predicted'], margins= True)\n",
    "sns.heatmap(confusion_matrix, annot=True, fmt = 'd')\n",
    "plt.show()\n",
    "# classification report\n",
    "print(classification_report(y_test, y_pred_gradient, target_names=['class 0', 'class 1']))\n",
    "\n",
    "# AdaBoost\n",
    "# confusion matrix\n",
    "print('\\n[AdaBoost]')\n",
    "confusion_matrix = pd.crosstab(y_test, y_pred_adaboost, rownames=['Actual'], colnames=['Predicted'], margins= True)\n",
    "sns.heatmap(confusion_matrix, annot=True, fmt = 'd')\n",
    "plt.show()\n",
    "# classification report\n",
    "print(classification_report(y_test, y_pred_adaboost, target_names=['class 0', 'class 1']))"
   ]
  },
  {
   "cell_type": "code",
   "execution_count": null,
   "metadata": {},
   "outputs": [],
   "source": []
  }
 ],
 "metadata": {
  "kernelspec": {
   "display_name": "Python 3",
   "language": "python",
   "name": "python3"
  },
  "language_info": {
   "codemirror_mode": {
    "name": "ipython",
    "version": 3
   },
   "file_extension": ".py",
   "mimetype": "text/x-python",
   "name": "python",
   "nbconvert_exporter": "python",
   "pygments_lexer": "ipython3",
   "version": "3.6.5"
  }
 },
 "nbformat": 4,
 "nbformat_minor": 2
}
