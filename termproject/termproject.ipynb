{
 "cells": [
  {
   "cell_type": "code",
   "execution_count": 370,
   "metadata": {},
   "outputs": [],
   "source": [
    "import numpy as np\n",
    "import pandas as pd\n",
    "import matplotlib.pyplot as plt\n",
    "from sklearn.preprocessing import LabelEncoder\n",
    "from sklearn.preprocessing import MinMaxScaler\n",
    "from sklearn.model_selection import cross_val_score\n",
    "from sklearn.linear_model import LogisticRegression\n",
    "from sklearn.tree import DecisionTreeClassifier\n",
    "import seaborn as sn\n",
    "import matplotlib.pyplot as plt\n",
    "\n",
    "df = pd.read_csv(\"Accidental_Drug_Related_Deaths_2012-2018.csv\", encoding='cp1252')"
   ]
  },
  {
   "cell_type": "code",
   "execution_count": 371,
   "metadata": {},
   "outputs": [
    {
     "name": "stdout",
     "output_type": "stream",
     "text": [
      "    Age     Sex          Race Heroin Cocaine Fentanyl FentanylAnalogue  \\\n",
      "0   NaN     NaN           NaN    NaN     NaN        Y              NaN   \n",
      "1  48.0    Male         Black    NaN       Y      NaN              NaN   \n",
      "2  30.0  Female         White      Y       Y      NaN              NaN   \n",
      "3  23.0    Male         White      Y     NaN        Y              NaN   \n",
      "4  22.0    Male  Asian, Other    NaN     NaN        Y              NaN   \n",
      "\n",
      "  Oxycodone Oxymorphone Ethanol Hydrocodone Benzodiazepine Methadone Amphet  \\\n",
      "0       NaN         NaN     NaN           Y              Y       NaN    NaN   \n",
      "1       NaN         NaN     NaN         NaN            NaN       NaN    NaN   \n",
      "2       NaN         NaN     NaN         NaN            NaN       NaN    NaN   \n",
      "3       NaN         NaN     NaN         NaN            NaN       NaN    NaN   \n",
      "4       NaN         NaN     NaN         NaN            NaN       NaN    NaN   \n",
      "\n",
      "  Tramad Morphine_NotHeroin Hydromorphone Other Death  \n",
      "0    NaN                NaN           NaN   NaN   Yes  \n",
      "1    NaN                NaN           NaN   NaN    No  \n",
      "2    NaN                NaN           NaN   NaN    No  \n",
      "3    NaN                NaN           NaN   NaN    No  \n",
      "4    NaN                NaN           NaN   NaN    No  \n"
     ]
    }
   ],
   "source": [
    "# Data Preprocessing\n",
    "#1) Data Restructuring - table vertical decomposition\n",
    "# remove features do not affect on accidental drug with death\n",
    "df.drop(['ID', 'Date', 'DateType', 'ResidenceCity', 'ResidenceCounty', 'ResidenceState', 'DeathCity', 'DeathCounty',\n",
    "        'Location', 'LocationifOther', 'DescriptionofInjury', 'InjuryPlace', 'InjuryCity', 'InjuryCounty', 'InjuryState', \n",
    "         'COD', 'OtherSignifican', 'DeathCityGeo', 'ResidenceCityGeo', 'InjuryCityGeo', 'MannerofDeath',\n",
    "        'OpiateNOS', 'AnyOpioid'], 1, inplace=True)\n",
    "print(df.head(5))"
   ]
  },
  {
   "cell_type": "code",
   "execution_count": 372,
   "metadata": {},
   "outputs": [
    {
     "name": "stdout",
     "output_type": "stream",
     "text": [
      "- missing data before -\n",
      "Age                      3\n",
      "Sex                      6\n",
      "Race                    13\n",
      "Heroin                2576\n",
      "Cocaine               3583\n",
      "Fentanyl              2873\n",
      "FentanylAnalogue      4715\n",
      "Oxycodone             4496\n",
      "Oxymorphone           4996\n",
      "Ethanol               3857\n",
      "Hydrocodone           4986\n",
      "Benzodiazepine        3762\n",
      "Methadone             4631\n",
      "Amphet                4945\n",
      "Tramad                4975\n",
      "Morphine_NotHeroin    5062\n",
      "Hydromorphone         5080\n",
      "Other                 4670\n",
      "Death                    8\n",
      "dtype: int64\n",
      "- missing data after  -\n",
      "Age                      3\n",
      "Sex                      7\n",
      "Race                    36\n",
      "Heroin                2576\n",
      "Cocaine               3583\n",
      "Fentanyl              2873\n",
      "FentanylAnalogue      4715\n",
      "Oxycodone             4496\n",
      "Oxymorphone           4996\n",
      "Ethanol               3857\n",
      "Hydrocodone           4986\n",
      "Benzodiazepine        3762\n",
      "Methadone             4631\n",
      "Amphet                4945\n",
      "Tramad                4975\n",
      "Morphine_NotHeroin    5062\n",
      "Hydromorphone         5080\n",
      "Other                 4670\n",
      "Death                    8\n",
      "dtype: int64\n"
     ]
    }
   ],
   "source": [
    "# 2) Data Restructuring - data value changes\n",
    "# missing data\n",
    "print(\"- missing data before -\")\n",
    "print(df.isnull().sum()) # check missing data\n",
    "\n",
    "df = df.replace('Unknown', np.nan) # replace 'Unknown' to NaN\n",
    "\n",
    "print(\"- missing data after  -\")\n",
    "print(df.isnull().sum()) # check missing data"
   ]
  },
  {
   "cell_type": "code",
   "execution_count": 373,
   "metadata": {},
   "outputs": [
    {
     "name": "stdout",
     "output_type": "stream",
     "text": [
      "- missing data after -\n",
      "Age                      0\n",
      "Sex                      0\n",
      "Race                     0\n",
      "Heroin                2570\n",
      "Cocaine               3579\n",
      "Fentanyl              2869\n",
      "FentanylAnalogue      4707\n",
      "Oxycodone             4488\n",
      "Oxymorphone           4988\n",
      "Ethanol               3851\n",
      "Hydrocodone           4978\n",
      "Benzodiazepine        3755\n",
      "Methadone             4624\n",
      "Amphet                4937\n",
      "Tramad                4967\n",
      "Morphine_NotHeroin    5054\n",
      "Hydromorphone         5072\n",
      "Other                    0\n",
      "Death                    0\n",
      "dtype: int64\n"
     ]
    }
   ],
   "source": [
    "# replace the NaN\n",
    "df[['Age']] = df[['Age']].fillna(df[['Age']].mean()) #fill with mean\n",
    "df[['Sex']] = df[['Sex']].fillna(method='bfill') #fill with bfill\n",
    "df[['Race']] = df[['Race']].fillna(method='bfill') # fill with bfill\n",
    "df[['Other']] = df[['Other']].replace(np.nan, '0') # replace 'Unknown' to 0\n",
    "df = df.dropna(subset=['Death'])\n",
    "print(\"- missing data after -\")\n",
    "print(df.isnull().sum()) # check missing data"
   ]
  },
  {
   "cell_type": "code",
   "execution_count": 374,
   "metadata": {},
   "outputs": [
    {
     "name": "stdout",
     "output_type": "stream",
     "text": [
      "White                     4030\n",
      "Hispanic, White            562\n",
      "Black                      434\n",
      "Hispanic, Black             24\n",
      "Asian, Other                18\n",
      "Asian Indian                14\n",
      "Other                       11\n",
      "Chinese                      2\n",
      "Native American, Other       1\n",
      "Hawaiian                     1\n",
      "Name: Race, dtype: int64\n",
      "\n",
      "\n",
      " White              4030\n",
      "Hispanic            586\n",
      "Black               434\n",
      "Asian                18\n",
      "Asian Indian         14\n",
      "Other                11\n",
      "Chinese               2\n",
      "Native American       1\n",
      "Hawaiian              1\n",
      "Name: Race, dtype: int64\n"
     ]
    }
   ],
   "source": [
    "# Text preprocessing\n",
    "# Text tokenization the race\n",
    "print(df['Race'].value_counts())\n",
    "df['Race'] = df.Race.str.split(',').str[0] # 여러개의 인종이 있는 경우 앞에 있는 인종 선택\n",
    "print('\\n\\n',df['Race'].value_counts())"
   ]
  },
  {
   "cell_type": "code",
   "execution_count": 375,
   "metadata": {},
   "outputs": [],
   "source": [
    "# column value of df['Other']\n",
    "listt = df['Other'].values.tolist()\n",
    "listt = [listt for listt in listt if str(listt) != '0']"
   ]
  },
  {
   "cell_type": "code",
   "execution_count": 376,
   "metadata": {},
   "outputs": [
    {
     "name": "stdout",
     "output_type": "stream",
     "text": [
      "- Before -\n",
      "\n",
      "Y           2224\n",
      "Y-A            2\n",
      "Y (PTCH)       1\n",
      "Y POPS         1\n",
      "Name: Fentanyl, dtype: int64\n",
      "\n",
      " Y                   39\n",
      "STOLE MEDS           1\n",
      "NO RX BUT STRAWS     1\n",
      "PCP NEG              1\n",
      "YES                  1\n",
      "Name: Morphine_NotHeroin, dtype: int64\n",
      "\n",
      " 0                         4663\n",
      "PCP                         48\n",
      "morphine                    29\n",
      "HYDROMORPH                  28\n",
      "Bupren                      25\n",
      "BUPREN                      23\n",
      "pcp                         16\n",
      "MORPHINE                    15\n",
      "U-47700                     15\n",
      "MORPH                       11\n",
      "Buprenor                    10\n",
      "morphine RX                  9\n",
      "OPIATE                       9\n",
      "opiates                      8\n",
      "BUPRENOR                     6\n",
      "MDMA                         5\n",
      "opiate                       5\n",
      "Morphine                     5\n",
      "ketamine                     4\n",
      "BUPRENO                      4\n",
      "carfentanil                  4\n",
      "hydromorph                   4\n",
      "Bupreno                      4\n",
      "HYDR-MOR                     4\n",
      "COD                          4\n",
      "opiate screen                4\n",
      "4-anpp                       3\n",
      "LOPERAMIDE                   3\n",
      "others                       3\n",
      "BUPRE                        3\n",
      "                          ... \n",
      "PCP, N-ETHYL-PENTYLONE       1\n",
      "BUTALB                       1\n",
      "difluoroeth                  1\n",
      "PCP, HYDROMORPH              1\n",
      "MDMA, PCP                    1\n",
      "HYDROMORPH, BUPRENOR         1\n",
      "MORPH/COD                    1\n",
      "PCP, Buprenor                1\n",
      "hyd-morph                    1\n",
      "Rx morphine                  1\n",
      "HYDROM                       1\n",
      "pcp. Bupren                  1\n",
      "buprenor                     1\n",
      "CATHINONE                    1\n",
      "PCP, MORPHINE NOS            1\n",
      "HYDMORPH                     1\n",
      "PSEUDO                       1\n",
      "zolpidem                     1\n",
      "morphine, no rx in pmp       1\n",
      "TOPIRAMATE                   1\n",
      "Codeine                      1\n",
      "BUPRENORPHONE                1\n",
      "Buprno                       1\n",
      "Bupren, HEXADRONE            1\n",
      "HYDRMORP                     1\n",
      "methoxyPCP                   1\n",
      "ZOLP                         1\n",
      "MORPHINE/HYDROMORPH          1\n",
      "HYDRO MORPH                  1\n",
      "2-A                          1\n",
      "Name: Other, Length: 135, dtype: int64\n",
      "\n",
      "- After -\n",
      "\n",
      "Y    2228\n",
      "Name: Fentanyl, dtype: int64\n",
      "\n",
      " Y    43\n",
      "Name: Morphine_NotHeroin, dtype: int64\n",
      "\n",
      " 0    4663\n",
      "Y     434\n",
      "Name: Other, dtype: int64\n"
     ]
    }
   ],
   "source": [
    "# 약물\n",
    "print('- Before -\\n')\n",
    "print(df['Fentanyl'].value_counts())\n",
    "print('\\n',df['Morphine_NotHeroin'].value_counts())\n",
    "print('\\n',df['Other'].value_counts())\n",
    "\n",
    "df[['Fentanyl']] = df[['Fentanyl']].replace(['Y-A', 'Y POPS', 'Y (PTCH)'], 'Y') # replace 'Y-A', 'Y POPS', 'Y (PTCH)' to 'Y'\n",
    "df[['Morphine_NotHeroin']] = df[['Morphine_NotHeroin']].replace(['STOLE MEDS', 'YES', 'NO RX BUT STRAWS', 'PCP NEG'], 'Y') # replace 'Y-A', 'Y POPS', 'Y (PTCH)' to 'Y'\n",
    "df[['Other']] = df[['Other']].replace([listt], 'Y') # replace 'Y-A', 'Y POPS', 'Y (PTCH)' to 'Y'\n",
    "\n",
    "print('\\n- After -\\n')\n",
    "print(df['Fentanyl'].value_counts())\n",
    "print('\\n',df['Morphine_NotHeroin'].value_counts())\n",
    "print('\\n',df['Other'].value_counts())"
   ]
  },
  {
   "cell_type": "code",
   "execution_count": 377,
   "metadata": {},
   "outputs": [
    {
     "name": "stdout",
     "output_type": "stream",
     "text": [
      "3    3330\n",
      "2    1617\n",
      "4     124\n",
      "1      26\n",
      "Name: Age_band, dtype: int64\n"
     ]
    }
   ],
   "source": [
    "# 나이 그룹짓기\n",
    "# 영유아(0~5세) : A\n",
    "# 아동, 청소년(6~18세) : B\n",
    "# 청년(19~34세) : C\n",
    "# 중장년(35~64세) : D\n",
    "# 노인(65세~) : E\n",
    "df['Age_band'] = 0\n",
    "df.loc[df['Age']<=5, 'Age_band'] = '0'\n",
    "df.loc[(df['Age']>5)&(df['Age']<=18), 'Age_band'] = '1'\n",
    "df.loc[(df['Age']>18)&(df['Age']<=34), 'Age_band'] = '2'\n",
    "df.loc[(df['Age']>34)&(df['Age']<=64), 'Age_band'] = '3'\n",
    "df.loc[df['Age']>64, 'Age_band'] = '4'\n",
    "\n",
    "print(df['Age_band'].value_counts())"
   ]
  },
  {
   "cell_type": "code",
   "execution_count": 378,
   "metadata": {},
   "outputs": [],
   "source": [
    "# Feature Engineering\n",
    "# Label Encoding\n",
    "labelEncoder = LabelEncoder()\n",
    "\n",
    "# 0: Female, 1: Male\n",
    "labelEncoder.fit(df['Sex'])\n",
    "df['Sex'] = labelEncoder.transform(df['Sex'])\n",
    "\n",
    "# 0: Asian, 1: Asian Indian, 2: Black, 3: Chinese, 4: Hawaiian, 5: Hispanic, 6: Hispanic American, 7: Other, 8: White\n",
    "labelEncoder.fit(df['Race'])\n",
    "df['Race'] = labelEncoder.transform(df['Race'])\n",
    "\n",
    "# 0: No, 1: Yes\n",
    "labelEncoder.fit(df['Death'])\n",
    "df['Death'] = labelEncoder.transform(df['Death'])"
   ]
  },
  {
   "cell_type": "code",
   "execution_count": 379,
   "metadata": {},
   "outputs": [],
   "source": [
    "# Feature Encoding\n",
    "# Drug's value change\n",
    "df = df.replace('Y', 1) # replace 'Y' to 1\n",
    "df = df.replace(np.nan, 0) # replace 'np.nan' to 0"
   ]
  },
  {
   "cell_type": "code",
   "execution_count": 380,
   "metadata": {
    "scrolled": true
   },
   "outputs": [
    {
     "name": "stdout",
     "output_type": "stream",
     "text": [
      "0    3.0\n",
      "1    1.0\n",
      "2    2.0\n",
      "3    2.0\n",
      "4    1.0\n",
      "5    1.0\n",
      "6    1.0\n",
      "7    1.0\n",
      "8    1.0\n",
      "9    1.0\n",
      "Name: Drug, dtype: float64\n"
     ]
    }
   ],
   "source": [
    "# Feature Engineering\n",
    "# Feature Creation\n",
    "df['Drug']=df.iloc[:, 3:18].sum(1) # the number of drugs taken by one person\n",
    "\n",
    "print(df['Drug'].head(10))"
   ]
  },
  {
   "cell_type": "code",
   "execution_count": 381,
   "metadata": {},
   "outputs": [],
   "source": [
    "# classifier attribute to target\n",
    "X = df[['Sex', 'Race', 'Age_band', 'Drug']] # attribute\n",
    "y = df['Death'].values # target"
   ]
  },
  {
   "cell_type": "code",
   "execution_count": 382,
   "metadata": {},
   "outputs": [],
   "source": [
    "# Feature Engineering\n",
    "# normalization\n",
    "from sklearn.preprocessing import StandardScaler\n",
    "from sklearn.decomposition import PCA\n",
    "\n",
    "# X_ = StandardScaler().fit_transform(X)\n",
    "# pca = PCA(n_components=4)\n",
    "# pc = pca.fit_transform(X_)\n",
    "X = StandardScaler().fit_transform(X)"
   ]
  },
  {
   "cell_type": "code",
   "execution_count": 383,
   "metadata": {},
   "outputs": [],
   "source": [
    "#Calculation kfold's accuracy\n",
    "def cal(model):\n",
    "    cv_scores = cross_val_score(model, X, y, cv=10)\n",
    "    print(cv_scores)\n",
    "    print('cv_scores mean:{}'.format(np.mean(cv_scores)))\n",
    "    print()\n",
    "\n",
    "Dscore = None\n",
    "Dmodel = None"
   ]
  },
  {
   "cell_type": "code",
   "execution_count": 384,
   "metadata": {},
   "outputs": [
    {
     "name": "stdout",
     "output_type": "stream",
     "text": [
      "DecisionTree =  gini\n",
      "[0.69667319 0.81372549 0.84313725 0.80784314 0.79803922 0.80196078\n",
      " 0.78781925 0.79764244 0.77210216 0.86640472]\n",
      "cv_scores mean:0.798534763799214\n",
      "\n",
      "DecisionTree =  entropy\n",
      "[0.69667319 0.81372549 0.84313725 0.80980392 0.79803922 0.80196078\n",
      " 0.78781925 0.79764244 0.7740668  0.86640472]\n",
      "cv_scores mean:0.7989273058848105\n",
      "\n"
     ]
    }
   ],
   "source": [
    "#Pick Decision Tree's max model\n",
    "def update(model): \n",
    "    global Dmodel, Dscore\n",
    "    cv_scores = cross_val_score(model, X, y, cv=10)\n",
    "    n_score = np.mean(cv_scores)\n",
    "    if (Dscore == None):\n",
    "        Dscore = n_score\n",
    "        Dmodel = model\n",
    "    elif(n_score > Dscore):\n",
    "        Dscore = n_score\n",
    "        Dmodel = model\n",
    "\n",
    "Cscore = None\n",
    "Cmodel = None\n",
    "\n",
    "#DecstionTree's all case\n",
    "for case in['gini', 'entropy']:\n",
    "    print(\"DecisionTree = \" , case)\n",
    "    model = DecisionTreeClassifier(criterion = case, max_depth=10, random_state=0)\n",
    "    cal(model)\n",
    "    update(model)"
   ]
  },
  {
   "cell_type": "code",
   "execution_count": 385,
   "metadata": {},
   "outputs": [
    {
     "name": "stdout",
     "output_type": "stream",
     "text": [
      "Logistic =  solver :   liblinear  / max_iter :  50\n",
      "[0.70254403 0.82156863 0.84901961 0.81372549 0.79803922 0.80196078\n",
      " 0.79371316 0.80157171 0.7740668  0.86640472]\n",
      "cv_scores mean:0.8022614141870112\n",
      "\n",
      "Logistic =  solver :   liblinear  / max_iter :  100\n",
      "[0.70254403 0.82156863 0.84901961 0.81372549 0.79803922 0.80196078\n",
      " 0.79371316 0.80157171 0.7740668  0.86640472]\n",
      "cv_scores mean:0.8022614141870112\n",
      "\n",
      "Logistic =  solver :   liblinear  / max_iter :  200\n",
      "[0.70254403 0.82156863 0.84901961 0.81372549 0.79803922 0.80196078\n",
      " 0.79371316 0.80157171 0.7740668  0.86640472]\n",
      "cv_scores mean:0.8022614141870112\n",
      "\n",
      "Logistic =  solver :   lbfgs  / max_iter :  50\n",
      "[0.70254403 0.82156863 0.84901961 0.81372549 0.79803922 0.80196078\n",
      " 0.79371316 0.80157171 0.7740668  0.86640472]\n",
      "cv_scores mean:0.8022614141870112\n",
      "\n",
      "Logistic =  solver :   lbfgs  / max_iter :  100\n",
      "[0.70254403 0.82156863 0.84901961 0.81372549 0.79803922 0.80196078\n",
      " 0.79371316 0.80157171 0.7740668  0.86640472]\n",
      "cv_scores mean:0.8022614141870112\n",
      "\n",
      "Logistic =  solver :   lbfgs  / max_iter :  200\n",
      "[0.70254403 0.82156863 0.84901961 0.81372549 0.79803922 0.80196078\n",
      " 0.79371316 0.80157171 0.7740668  0.86640472]\n",
      "cv_scores mean:0.8022614141870112\n",
      "\n",
      "Logistic =  solver :   sag  / max_iter :  50\n",
      "[0.70254403 0.82156863 0.84901961 0.81372549 0.79803922 0.80196078\n",
      " 0.79371316 0.80157171 0.7740668  0.86640472]\n",
      "cv_scores mean:0.8022614141870112\n",
      "\n",
      "Logistic =  solver :   sag  / max_iter :  100\n",
      "[0.70254403 0.82156863 0.84901961 0.81372549 0.79803922 0.80196078\n",
      " 0.79371316 0.80157171 0.7740668  0.86640472]\n",
      "cv_scores mean:0.8022614141870112\n",
      "\n",
      "Logistic =  solver :   sag  / max_iter :  200\n",
      "[0.70254403 0.82156863 0.84901961 0.81372549 0.79803922 0.80196078\n",
      " 0.79371316 0.80157171 0.7740668  0.86640472]\n",
      "cv_scores mean:0.8022614141870112\n",
      "\n"
     ]
    }
   ],
   "source": [
    "#Pick Logistic Regression's max model\n",
    "def update2(model):\n",
    "    global Cmodel, Cscore\n",
    "    cv_scores = cross_val_score(model, X, y, cv=10)\n",
    "    n_score = np.mean(cv_scores)\n",
    "    if (Cscore == None):\n",
    "        Cscore = n_score\n",
    "        Cmodel = model\n",
    "    elif(n_score > Cscore):\n",
    "        Cscore = n_score\n",
    "        Cmodel = model\n",
    "\n",
    "Sscore = None\n",
    "Smodel = None\n",
    "\n",
    "#Logistic Regression's all case\n",
    "for case in['liblinear', 'lbfgs', 'sag']:\n",
    "    for max in [50, 100,200]:\n",
    "        print(\"Logistic = \" , \"solver :  \" , case , \" / max_iter : \" , max)\n",
    "        model = LogisticRegression(solver = case, max_iter = max)\n",
    "        cal(model)\n",
    "        update2(model)"
   ]
  },
  {
   "cell_type": "code",
   "execution_count": 386,
   "metadata": {
    "scrolled": true
   },
   "outputs": [
    {
     "name": "stdout",
     "output_type": "stream",
     "text": [
      "[Decision Tree]\n"
     ]
    },
    {
     "data": {
      "image/png": "[encoded data removed]",
      "text/plain": [
       "<Figure size 432x288 with 2 Axes>"
      ]
     },
     "metadata": {},
     "output_type": "display_data"
    },
    {
     "name": "stdout",
     "output_type": "stream",
     "text": [
      "[Logistic Regression]\n"
     ]
    },
    {
     "data": {
      "image/png": "[encoded data removed]",
      "text/plain": [
       "<Figure size 432x288 with 2 Axes>"
      ]
     },
     "metadata": {},
     "output_type": "display_data"
    }
   ],
   "source": [
    "#Training max model\n",
    "Dmodel = Dmodel.fit(X, y)\n",
    "Cmodel = Cmodel.fit(X, y)\n",
    "\n",
    "#Decision Tree's confusion matrix\n",
    "print('[Decision Tree]')\n",
    "confusion_matrix = pd.crosstab(y, Dmodel.predict(X), rownames=['Actual'], colnames=['Predicted'], margins= True)\n",
    "sn.heatmap(confusion_matrix, annot=True, fmt = 'd')\n",
    "plt.show()\n",
    "\n",
    "#Logistic Regression's confusion matrix\n",
    "print('[Logistic Regression]')\n",
    "confusion_matrix = pd.crosstab(y, Cmodel.predict(X), rownames=['Actual'], colnames=['Predicted'], margins= True)\n",
    "sn.heatmap(confusion_matrix, annot=True, fmt = 'd')\n",
    "plt.show()"
   ]
  }
 ],
 "metadata": {
  "kernelspec": {
   "display_name": "Python 3",
   "language": "python",
   "name": "python3"
  },
  "language_info": {
   "codemirror_mode": {
    "name": "ipython",
    "version": 3
   },
   "file_extension": ".py",
   "mimetype": "text/x-python",
   "name": "python",
   "nbconvert_exporter": "python",
   "pygments_lexer": "ipython3",
   "version": "3.6.5"
  }
 },
 "nbformat": 4,
 "nbformat_minor": 2
}
